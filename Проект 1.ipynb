{
 "cells": [
  {
   "cell_type": "markdown",
   "metadata": {},
   "source": [
    "<div class=\"alert alert-info\">\n",
    "<font size=\"5\"><b>Комментарий ревьюера 2</b></font>\n",
    "\n",
    "Привет еще раз. Спасибо, что доделал работу. Оформление комментариев по работе сохраняется. Только обозначим, что это вторая итерация. \n",
    "\n",
    "</div>"
   ]
  },
  {
   "cell_type": "markdown",
   "metadata": {},
   "source": [
    "<div class=\"alert alert-info\">\n",
    "<font size=\"5\"><b>Комментарий ревьюера</b></font>\n",
    "\n",
    "Привет, Даниил! Спасибо, что прислал задание:) Меня зовут Слепцов Артем и я буду проверять твой проект) Ты проделал большую работу над проектом. Он выполнен уже на достойном уровне. Однако есть моменты, которые еще можно улучшить. Будет здорово, если ты, надеюсь, не против, если я буду на ты, будешь отвечать на комментарии и участвовать в диалоге. Если обращение на ты неприемлемо, то прошу сообщить. \n",
    "\n",
    "Мои комментарии обозначены пометкой **Комментарий ревьюера**. Далее в файле ты сможешь найти их в похожих ячейках:\n",
    "    \n",
    "<div class=\"alert alert-success\">Если фон комментария зелёный - всё сделано правильно. Рекомендации укажу таким же цветом;</div>\n",
    "        \n",
    "<div class=\"alert alert-warning\">Оранжевый - некритичные замечания. Если таких замечаний меньше трех - проект может быть принят без их отработки;</div>\n",
    "        \n",
    "<div class=\"alert alert-danger\">Красный - нужно переделать. </div>\n",
    "        \n",
    "Не удаляй эти комментарии и постарайся учесть их в ходе выполнения данного проекта. Свои же комментарии ты можешь обозначать любым заметным способом. \n",
    "\n",
    "</div>"
   ]
  },
  {
   "cell_type": "markdown",
   "metadata": {},
   "source": [
    "# Исследование надёжности заёмщиков\n",
    "\n",
    "Заказчик — кредитный отдел банка. Нужно разобраться, влияет ли семейное положение и количество детей клиента на факт погашения кредита в срок. Входные данные от банка — статистика о платёжеспособности клиентов.\n",
    "\n",
    "Результаты исследования будут учтены при построении модели **кредитного скоринга** — специальной системы, которая оценивает способность потенциального заёмщика вернуть кредит банку."
   ]
  },
  {
   "cell_type": "markdown",
   "metadata": {},
   "source": [
    "<div class=\"alert alert-success\">\n",
    "<font size=\"5\"><b>Комментарий ревьюера</b></font>\n",
    "\n",
    "Вступление в работу очень важно. Так ты поясняешь то, чему она посвящена. Стоит также описать те данные, с которыми мы работаем. \n",
    "\n",
    "</div>"
   ]
  },
  {
   "cell_type": "markdown",
   "metadata": {},
   "source": [
    "## Шаг 1. Откройте файл с данными и изучите общую информацию"
   ]
  },
  {
   "cell_type": "markdown",
   "metadata": {},
   "source": [
    "<div class=\"alert alert-warning\">\n",
    "<font size=\"5\"><b>Комментарий ревьюера</b></font>\n",
    "\n",
    "Я заметил, что ячейки в твоей тетрадке идут не по порядку. Перед отправкой работы рекомендую перезапускать ноутбук, чтобы убедиться, что все ячейки выполняются корректно.\n",
    "\n",
    "</div>"
   ]
  },
  {
   "cell_type": "markdown",
   "metadata": {},
   "source": [
    "<div class=\"alert alert-success\">\n",
    "<font size=\"5\"><b>Комментарий ревьюера 2</b></font>\n",
    "\n",
    "Перезапуск позволяет обнаружить и исправить скрытые в коде ошибки. \n",
    "\n",
    "</div>"
   ]
  },
  {
   "cell_type": "code",
   "execution_count": 1,
   "metadata": {
    "scrolled": false
   },
   "outputs": [
    {
     "name": "stdout",
     "output_type": "stream",
     "text": [
      "<class 'pandas.core.frame.DataFrame'>\n",
      "RangeIndex: 21525 entries, 0 to 21524\n",
      "Data columns (total 12 columns):\n",
      "children            21525 non-null int64\n",
      "days_employed       19351 non-null float64\n",
      "dob_years           21525 non-null int64\n",
      "education           21525 non-null object\n",
      "education_id        21525 non-null int64\n",
      "family_status       21525 non-null object\n",
      "family_status_id    21525 non-null int64\n",
      "gender              21525 non-null object\n",
      "income_type         21525 non-null object\n",
      "debt                21525 non-null int64\n",
      "total_income        19351 non-null float64\n",
      "purpose             21525 non-null object\n",
      "dtypes: float64(2), int64(5), object(5)\n",
      "memory usage: 2.0+ MB\n"
     ]
    }
   ],
   "source": [
    "# Считывание файла с данными и общая информация о типах и размерности данных \n",
    "import pandas as pd\n",
    "import numpy as np\n",
    "data=pd.read_csv('/datasets/data.csv')\n",
    "data.info()"
   ]
  },
  {
   "cell_type": "code",
   "execution_count": 2,
   "metadata": {},
   "outputs": [
    {
     "data": {
      "text/html": [
       "<div>\n",
       "<style scoped>\n",
       "    .dataframe tbody tr th:only-of-type {\n",
       "        vertical-align: middle;\n",
       "    }\n",
       "\n",
       "    .dataframe tbody tr th {\n",
       "        vertical-align: top;\n",
       "    }\n",
       "\n",
       "    .dataframe thead th {\n",
       "        text-align: right;\n",
       "    }\n",
       "</style>\n",
       "<table border=\"1\" class=\"dataframe\">\n",
       "  <thead>\n",
       "    <tr style=\"text-align: right;\">\n",
       "      <th></th>\n",
       "      <th>children</th>\n",
       "      <th>days_employed</th>\n",
       "      <th>dob_years</th>\n",
       "      <th>education</th>\n",
       "      <th>education_id</th>\n",
       "      <th>family_status</th>\n",
       "      <th>family_status_id</th>\n",
       "      <th>gender</th>\n",
       "      <th>income_type</th>\n",
       "      <th>debt</th>\n",
       "      <th>total_income</th>\n",
       "      <th>purpose</th>\n",
       "    </tr>\n",
       "  </thead>\n",
       "  <tbody>\n",
       "    <tr>\n",
       "      <td>0</td>\n",
       "      <td>1</td>\n",
       "      <td>-8437.673028</td>\n",
       "      <td>42</td>\n",
       "      <td>высшее</td>\n",
       "      <td>0</td>\n",
       "      <td>женат / замужем</td>\n",
       "      <td>0</td>\n",
       "      <td>F</td>\n",
       "      <td>сотрудник</td>\n",
       "      <td>0</td>\n",
       "      <td>253875.639453</td>\n",
       "      <td>покупка жилья</td>\n",
       "    </tr>\n",
       "    <tr>\n",
       "      <td>1</td>\n",
       "      <td>1</td>\n",
       "      <td>-4024.803754</td>\n",
       "      <td>36</td>\n",
       "      <td>среднее</td>\n",
       "      <td>1</td>\n",
       "      <td>женат / замужем</td>\n",
       "      <td>0</td>\n",
       "      <td>F</td>\n",
       "      <td>сотрудник</td>\n",
       "      <td>0</td>\n",
       "      <td>112080.014102</td>\n",
       "      <td>приобретение автомобиля</td>\n",
       "    </tr>\n",
       "    <tr>\n",
       "      <td>2</td>\n",
       "      <td>0</td>\n",
       "      <td>-5623.422610</td>\n",
       "      <td>33</td>\n",
       "      <td>Среднее</td>\n",
       "      <td>1</td>\n",
       "      <td>женат / замужем</td>\n",
       "      <td>0</td>\n",
       "      <td>M</td>\n",
       "      <td>сотрудник</td>\n",
       "      <td>0</td>\n",
       "      <td>145885.952297</td>\n",
       "      <td>покупка жилья</td>\n",
       "    </tr>\n",
       "    <tr>\n",
       "      <td>3</td>\n",
       "      <td>3</td>\n",
       "      <td>-4124.747207</td>\n",
       "      <td>32</td>\n",
       "      <td>среднее</td>\n",
       "      <td>1</td>\n",
       "      <td>женат / замужем</td>\n",
       "      <td>0</td>\n",
       "      <td>M</td>\n",
       "      <td>сотрудник</td>\n",
       "      <td>0</td>\n",
       "      <td>267628.550329</td>\n",
       "      <td>дополнительное образование</td>\n",
       "    </tr>\n",
       "    <tr>\n",
       "      <td>4</td>\n",
       "      <td>0</td>\n",
       "      <td>340266.072047</td>\n",
       "      <td>53</td>\n",
       "      <td>среднее</td>\n",
       "      <td>1</td>\n",
       "      <td>гражданский брак</td>\n",
       "      <td>1</td>\n",
       "      <td>F</td>\n",
       "      <td>пенсионер</td>\n",
       "      <td>0</td>\n",
       "      <td>158616.077870</td>\n",
       "      <td>сыграть свадьбу</td>\n",
       "    </tr>\n",
       "  </tbody>\n",
       "</table>\n",
       "</div>"
      ],
      "text/plain": [
       "   children  days_employed  dob_years education  education_id  \\\n",
       "0         1   -8437.673028         42    высшее             0   \n",
       "1         1   -4024.803754         36   среднее             1   \n",
       "2         0   -5623.422610         33   Среднее             1   \n",
       "3         3   -4124.747207         32   среднее             1   \n",
       "4         0  340266.072047         53   среднее             1   \n",
       "\n",
       "      family_status  family_status_id gender income_type  debt   total_income  \\\n",
       "0   женат / замужем                 0      F   сотрудник     0  253875.639453   \n",
       "1   женат / замужем                 0      F   сотрудник     0  112080.014102   \n",
       "2   женат / замужем                 0      M   сотрудник     0  145885.952297   \n",
       "3   женат / замужем                 0      M   сотрудник     0  267628.550329   \n",
       "4  гражданский брак                 1      F   пенсионер     0  158616.077870   \n",
       "\n",
       "                      purpose  \n",
       "0               покупка жилья  \n",
       "1     приобретение автомобиля  \n",
       "2               покупка жилья  \n",
       "3  дополнительное образование  \n",
       "4             сыграть свадьбу  "
      ]
     },
     "execution_count": 2,
     "metadata": {},
     "output_type": "execute_result"
    }
   ],
   "source": [
    "data.head()"
   ]
  },
  {
   "cell_type": "code",
   "execution_count": 3,
   "metadata": {
    "scrolled": true
   },
   "outputs": [
    {
     "name": "stdout",
     "output_type": "stream",
     "text": [
      "(47, 12)\n"
     ]
    }
   ],
   "source": [
    "# Артефакты в данных, которые можно удалить,т.к. они имеют случайный характер\n",
    "print(data.loc[data.children<0].shape)\n",
    "data=data.loc[~data.children<0]"
   ]
  },
  {
   "cell_type": "code",
   "execution_count": 4,
   "metadata": {},
   "outputs": [
    {
     "name": "stdout",
     "output_type": "stream",
     "text": [
      "(101, 12)\n"
     ]
    }
   ],
   "source": [
    "# Артефакты переменной dob_years, которые можно удалить, т.к. они имеют случайный характер\n",
    "print(data.loc[data['dob_years']<18].shape)\n",
    "data=data.loc[~data['dob_years']<18]"
   ]
  },
  {
   "cell_type": "code",
   "execution_count": 5,
   "metadata": {},
   "outputs": [
    {
     "data": {
      "text/plain": [
       "16.007077009032496"
      ]
     },
     "execution_count": 5,
     "metadata": {},
     "output_type": "execute_result"
    }
   ],
   "source": [
    "data['days_employed'].loc[data['days_employed']>0].shape[0]/(data['days_employed'].shape[0])*100"
   ]
  },
  {
   "cell_type": "code",
   "execution_count": 6,
   "metadata": {},
   "outputs": [
    {
     "data": {
      "text/plain": [
       "73.884905484682"
      ]
     },
     "execution_count": 6,
     "metadata": {},
     "output_type": "execute_result"
    }
   ],
   "source": [
    "data['days_employed'].loc[data['days_employed']<0].shape[0]/(data['days_employed'].shape[0])*100"
   ]
  },
  {
   "cell_type": "code",
   "execution_count": 7,
   "metadata": {},
   "outputs": [
    {
     "data": {
      "text/plain": [
       "сотрудник          9989\n",
       "компаньон          4569\n",
       "госслужащий        1308\n",
       "предприниматель       1\n",
       "студент               1\n",
       "в декрете             1\n",
       "Name: income_type, dtype: int64"
      ]
     },
     "execution_count": 7,
     "metadata": {},
     "output_type": "execute_result"
    }
   ],
   "source": [
    "# Отрицательный стаж \n",
    "data.loc[data['days_employed']<0]['income_type'].value_counts()"
   ]
  },
  {
   "cell_type": "code",
   "execution_count": 8,
   "metadata": {},
   "outputs": [
    {
     "data": {
      "text/plain": [
       "пенсионер      3436\n",
       "безработный       2\n",
       "Name: income_type, dtype: int64"
      ]
     },
     "execution_count": 8,
     "metadata": {},
     "output_type": "execute_result"
    }
   ],
   "source": [
    "# Положительный стаж только у безработных и пенсионеров\n",
    "data.loc[data['days_employed']>0]['income_type'].value_counts()"
   ]
  },
  {
   "cell_type": "markdown",
   "metadata": {},
   "source": [
    "**Вывод**"
   ]
  },
  {
   "cell_type": "markdown",
   "metadata": {},
   "source": [
    "Датасет размерностью (21525,12). **days_employed** имеет отрицательные и положительные значения и и формат ***float64***.   NaN значения есть в 2 полях: ***days_employed*** и ***total_income***. Для ***days_employed*** : положительных значений ~ **16%**,отрицательных - **74%**  и **10%** пропусков. Отрицательные значения трудового стажа связаны с социальным статусом займщика - у пенсионеров и безработных он положительный (с чрезвычайно высокими - более 1000 лет стажа, значениями).  Отсутствующие значения следует заменить на медианные для каждой социальной группы. \n",
    "Также обнаружены *47 (~0.22%)* отрицательных значений переменной **children** и *101(~0.46%)* нулевых значений переменной **dob_years** что,  является артефактом."
   ]
  },
  {
   "cell_type": "markdown",
   "metadata": {},
   "source": [
    "<div class=\"alert alert-success\">\n",
    "<font size=\"5\"><b>Комментарий ревьюера</b></font>\n",
    "\n",
    "Подумай также о возможных причинах появления пропусков, а также о том, являются ли они случайными или нет. \n",
    "\n",
    "Первый взгляд на таблицу выполнен.\n",
    "\n",
    "</div>"
   ]
  },
  {
   "cell_type": "markdown",
   "metadata": {},
   "source": [
    "## Шаг 2. Предобработка данных"
   ]
  },
  {
   "cell_type": "markdown",
   "metadata": {},
   "source": [
    "### Обработка пропусков"
   ]
  },
  {
   "cell_type": "code",
   "execution_count": 9,
   "metadata": {
    "scrolled": true
   },
   "outputs": [
    {
     "data": {
      "text/html": [
       "<div>\n",
       "<style scoped>\n",
       "    .dataframe tbody tr th:only-of-type {\n",
       "        vertical-align: middle;\n",
       "    }\n",
       "\n",
       "    .dataframe tbody tr th {\n",
       "        vertical-align: top;\n",
       "    }\n",
       "\n",
       "    .dataframe thead th {\n",
       "        text-align: right;\n",
       "    }\n",
       "</style>\n",
       "<table border=\"1\" class=\"dataframe\">\n",
       "  <thead>\n",
       "    <tr style=\"text-align: right;\">\n",
       "      <th></th>\n",
       "      <th>children</th>\n",
       "      <th>days_employed</th>\n",
       "      <th>dob_years</th>\n",
       "      <th>education_id</th>\n",
       "      <th>family_status_id</th>\n",
       "      <th>debt</th>\n",
       "      <th>total_income</th>\n",
       "    </tr>\n",
       "    <tr>\n",
       "      <th>income_type</th>\n",
       "      <th></th>\n",
       "      <th></th>\n",
       "      <th></th>\n",
       "      <th></th>\n",
       "      <th></th>\n",
       "      <th></th>\n",
       "      <th></th>\n",
       "    </tr>\n",
       "  </thead>\n",
       "  <tbody>\n",
       "    <tr>\n",
       "      <td>безработный</td>\n",
       "      <td>0.5</td>\n",
       "      <td>366413.652744</td>\n",
       "      <td>38.0</td>\n",
       "      <td>0.5</td>\n",
       "      <td>0.5</td>\n",
       "      <td>0.5</td>\n",
       "      <td>131339.751676</td>\n",
       "    </tr>\n",
       "    <tr>\n",
       "      <td>в декрете</td>\n",
       "      <td>2.0</td>\n",
       "      <td>-3296.759962</td>\n",
       "      <td>39.0</td>\n",
       "      <td>1.0</td>\n",
       "      <td>0.0</td>\n",
       "      <td>1.0</td>\n",
       "      <td>53829.130729</td>\n",
       "    </tr>\n",
       "    <tr>\n",
       "      <td>госслужащий</td>\n",
       "      <td>0.0</td>\n",
       "      <td>-2689.368353</td>\n",
       "      <td>40.0</td>\n",
       "      <td>1.0</td>\n",
       "      <td>0.0</td>\n",
       "      <td>0.0</td>\n",
       "      <td>150447.935283</td>\n",
       "    </tr>\n",
       "    <tr>\n",
       "      <td>компаньон</td>\n",
       "      <td>0.0</td>\n",
       "      <td>-1548.721148</td>\n",
       "      <td>39.0</td>\n",
       "      <td>1.0</td>\n",
       "      <td>0.0</td>\n",
       "      <td>0.0</td>\n",
       "      <td>172466.509253</td>\n",
       "    </tr>\n",
       "    <tr>\n",
       "      <td>пенсионер</td>\n",
       "      <td>0.0</td>\n",
       "      <td>365249.346345</td>\n",
       "      <td>60.0</td>\n",
       "      <td>1.0</td>\n",
       "      <td>0.0</td>\n",
       "      <td>0.0</td>\n",
       "      <td>118557.179415</td>\n",
       "    </tr>\n",
       "    <tr>\n",
       "      <td>предприниматель</td>\n",
       "      <td>0.0</td>\n",
       "      <td>-520.848083</td>\n",
       "      <td>42.5</td>\n",
       "      <td>0.0</td>\n",
       "      <td>0.5</td>\n",
       "      <td>0.0</td>\n",
       "      <td>499163.144947</td>\n",
       "    </tr>\n",
       "    <tr>\n",
       "      <td>сотрудник</td>\n",
       "      <td>0.0</td>\n",
       "      <td>-1572.762276</td>\n",
       "      <td>39.0</td>\n",
       "      <td>1.0</td>\n",
       "      <td>0.0</td>\n",
       "      <td>0.0</td>\n",
       "      <td>142587.588976</td>\n",
       "    </tr>\n",
       "    <tr>\n",
       "      <td>студент</td>\n",
       "      <td>0.0</td>\n",
       "      <td>-578.751554</td>\n",
       "      <td>22.0</td>\n",
       "      <td>0.0</td>\n",
       "      <td>4.0</td>\n",
       "      <td>0.0</td>\n",
       "      <td>98201.625314</td>\n",
       "    </tr>\n",
       "  </tbody>\n",
       "</table>\n",
       "</div>"
      ],
      "text/plain": [
       "                 children  days_employed  dob_years  education_id  \\\n",
       "income_type                                                         \n",
       "безработный           0.5  366413.652744       38.0           0.5   \n",
       "в декрете             2.0   -3296.759962       39.0           1.0   \n",
       "госслужащий           0.0   -2689.368353       40.0           1.0   \n",
       "компаньон             0.0   -1548.721148       39.0           1.0   \n",
       "пенсионер             0.0  365249.346345       60.0           1.0   \n",
       "предприниматель       0.0    -520.848083       42.5           0.0   \n",
       "сотрудник             0.0   -1572.762276       39.0           1.0   \n",
       "студент               0.0    -578.751554       22.0           0.0   \n",
       "\n",
       "                 family_status_id  debt   total_income  \n",
       "income_type                                             \n",
       "безработный                   0.5   0.5  131339.751676  \n",
       "в декрете                     0.0   1.0   53829.130729  \n",
       "госслужащий                   0.0   0.0  150447.935283  \n",
       "компаньон                     0.0   0.0  172466.509253  \n",
       "пенсионер                     0.0   0.0  118557.179415  \n",
       "предприниматель               0.5   0.0  499163.144947  \n",
       "сотрудник                     0.0   0.0  142587.588976  \n",
       "студент                       4.0   0.0   98201.625314  "
      ]
     },
     "execution_count": 9,
     "metadata": {},
     "output_type": "execute_result"
    }
   ],
   "source": [
    "data.groupby(by='income_type').median()"
   ]
  },
  {
   "cell_type": "code",
   "execution_count": 10,
   "metadata": {},
   "outputs": [],
   "source": [
    "# Заполняем NaN-значения на медианные для каждой  группы по income_type\n",
    "data['total_income'] = data.groupby(['income_type'])['total_income'].apply(lambda x: x.fillna(x.median()))"
   ]
  },
  {
   "cell_type": "code",
   "execution_count": 11,
   "metadata": {},
   "outputs": [],
   "source": [
    "data['days_employed'] = data.groupby(['income_type'])['days_employed'].apply(lambda x: x.fillna(x.median()))"
   ]
  },
  {
   "cell_type": "markdown",
   "metadata": {},
   "source": [
    "**Вывод**"
   ]
  },
  {
   "cell_type": "markdown",
   "metadata": {},
   "source": [
    "Пропущенные значения были заменены на медианные ( чтобы не искажать распределение дохода ) по каждой каждой группе **income_type**, т.к. доход и стаж коррелируют с социальным статусом человека. "
   ]
  },
  {
   "cell_type": "markdown",
   "metadata": {},
   "source": [
    "<div class=\"alert alert-success\">\n",
    "<font size=\"5\"><b>Комментарий ревьюера</b></font>\n",
    "\n",
    "Соглашусь, тип занятости сильно влияет на получаемый доход. Здорово, что ты заметил данную особенность и смог обработать пропуски, исходя из данной зависимости. \n",
    "\n",
    "</div>"
   ]
  },
  {
   "cell_type": "markdown",
   "metadata": {},
   "source": [
    "### Замена типа данных"
   ]
  },
  {
   "cell_type": "code",
   "execution_count": 12,
   "metadata": {},
   "outputs": [],
   "source": [
    "data['days_employed']=data['days_employed'].astype('int')"
   ]
  },
  {
   "cell_type": "code",
   "execution_count": 13,
   "metadata": {},
   "outputs": [],
   "source": [
    "data['total_income'] = data['total_income'].astype('int')"
   ]
  },
  {
   "cell_type": "code",
   "execution_count": 14,
   "metadata": {},
   "outputs": [
    {
     "data": {
      "text/html": [
       "<div>\n",
       "<style scoped>\n",
       "    .dataframe tbody tr th:only-of-type {\n",
       "        vertical-align: middle;\n",
       "    }\n",
       "\n",
       "    .dataframe tbody tr th {\n",
       "        vertical-align: top;\n",
       "    }\n",
       "\n",
       "    .dataframe thead th {\n",
       "        text-align: right;\n",
       "    }\n",
       "</style>\n",
       "<table border=\"1\" class=\"dataframe\">\n",
       "  <thead>\n",
       "    <tr style=\"text-align: right;\">\n",
       "      <th></th>\n",
       "      <th>children</th>\n",
       "      <th>days_employed</th>\n",
       "      <th>dob_years</th>\n",
       "      <th>education</th>\n",
       "      <th>education_id</th>\n",
       "      <th>family_status</th>\n",
       "      <th>family_status_id</th>\n",
       "      <th>gender</th>\n",
       "      <th>income_type</th>\n",
       "      <th>debt</th>\n",
       "      <th>total_income</th>\n",
       "      <th>purpose</th>\n",
       "    </tr>\n",
       "  </thead>\n",
       "  <tbody>\n",
       "    <tr>\n",
       "      <td>0</td>\n",
       "      <td>1</td>\n",
       "      <td>-8437</td>\n",
       "      <td>42</td>\n",
       "      <td>высшее</td>\n",
       "      <td>0</td>\n",
       "      <td>женат / замужем</td>\n",
       "      <td>0</td>\n",
       "      <td>F</td>\n",
       "      <td>сотрудник</td>\n",
       "      <td>0</td>\n",
       "      <td>253875</td>\n",
       "      <td>покупка жилья</td>\n",
       "    </tr>\n",
       "    <tr>\n",
       "      <td>1</td>\n",
       "      <td>1</td>\n",
       "      <td>-4024</td>\n",
       "      <td>36</td>\n",
       "      <td>среднее</td>\n",
       "      <td>1</td>\n",
       "      <td>женат / замужем</td>\n",
       "      <td>0</td>\n",
       "      <td>F</td>\n",
       "      <td>сотрудник</td>\n",
       "      <td>0</td>\n",
       "      <td>112080</td>\n",
       "      <td>приобретение автомобиля</td>\n",
       "    </tr>\n",
       "    <tr>\n",
       "      <td>2</td>\n",
       "      <td>0</td>\n",
       "      <td>-5623</td>\n",
       "      <td>33</td>\n",
       "      <td>Среднее</td>\n",
       "      <td>1</td>\n",
       "      <td>женат / замужем</td>\n",
       "      <td>0</td>\n",
       "      <td>M</td>\n",
       "      <td>сотрудник</td>\n",
       "      <td>0</td>\n",
       "      <td>145885</td>\n",
       "      <td>покупка жилья</td>\n",
       "    </tr>\n",
       "    <tr>\n",
       "      <td>3</td>\n",
       "      <td>3</td>\n",
       "      <td>-4124</td>\n",
       "      <td>32</td>\n",
       "      <td>среднее</td>\n",
       "      <td>1</td>\n",
       "      <td>женат / замужем</td>\n",
       "      <td>0</td>\n",
       "      <td>M</td>\n",
       "      <td>сотрудник</td>\n",
       "      <td>0</td>\n",
       "      <td>267628</td>\n",
       "      <td>дополнительное образование</td>\n",
       "    </tr>\n",
       "    <tr>\n",
       "      <td>4</td>\n",
       "      <td>0</td>\n",
       "      <td>340266</td>\n",
       "      <td>53</td>\n",
       "      <td>среднее</td>\n",
       "      <td>1</td>\n",
       "      <td>гражданский брак</td>\n",
       "      <td>1</td>\n",
       "      <td>F</td>\n",
       "      <td>пенсионер</td>\n",
       "      <td>0</td>\n",
       "      <td>158616</td>\n",
       "      <td>сыграть свадьбу</td>\n",
       "    </tr>\n",
       "    <tr>\n",
       "      <td>5</td>\n",
       "      <td>0</td>\n",
       "      <td>-926</td>\n",
       "      <td>27</td>\n",
       "      <td>высшее</td>\n",
       "      <td>0</td>\n",
       "      <td>гражданский брак</td>\n",
       "      <td>1</td>\n",
       "      <td>M</td>\n",
       "      <td>компаньон</td>\n",
       "      <td>0</td>\n",
       "      <td>255763</td>\n",
       "      <td>покупка жилья</td>\n",
       "    </tr>\n",
       "    <tr>\n",
       "      <td>6</td>\n",
       "      <td>0</td>\n",
       "      <td>-2879</td>\n",
       "      <td>43</td>\n",
       "      <td>высшее</td>\n",
       "      <td>0</td>\n",
       "      <td>женат / замужем</td>\n",
       "      <td>0</td>\n",
       "      <td>F</td>\n",
       "      <td>компаньон</td>\n",
       "      <td>0</td>\n",
       "      <td>240525</td>\n",
       "      <td>операции с жильем</td>\n",
       "    </tr>\n",
       "    <tr>\n",
       "      <td>7</td>\n",
       "      <td>0</td>\n",
       "      <td>-152</td>\n",
       "      <td>50</td>\n",
       "      <td>СРЕДНЕЕ</td>\n",
       "      <td>1</td>\n",
       "      <td>женат / замужем</td>\n",
       "      <td>0</td>\n",
       "      <td>M</td>\n",
       "      <td>сотрудник</td>\n",
       "      <td>0</td>\n",
       "      <td>135823</td>\n",
       "      <td>образование</td>\n",
       "    </tr>\n",
       "    <tr>\n",
       "      <td>8</td>\n",
       "      <td>2</td>\n",
       "      <td>-6929</td>\n",
       "      <td>35</td>\n",
       "      <td>ВЫСШЕЕ</td>\n",
       "      <td>0</td>\n",
       "      <td>гражданский брак</td>\n",
       "      <td>1</td>\n",
       "      <td>F</td>\n",
       "      <td>сотрудник</td>\n",
       "      <td>0</td>\n",
       "      <td>95856</td>\n",
       "      <td>на проведение свадьбы</td>\n",
       "    </tr>\n",
       "    <tr>\n",
       "      <td>9</td>\n",
       "      <td>0</td>\n",
       "      <td>-2188</td>\n",
       "      <td>41</td>\n",
       "      <td>среднее</td>\n",
       "      <td>1</td>\n",
       "      <td>женат / замужем</td>\n",
       "      <td>0</td>\n",
       "      <td>M</td>\n",
       "      <td>сотрудник</td>\n",
       "      <td>0</td>\n",
       "      <td>144425</td>\n",
       "      <td>покупка жилья для семьи</td>\n",
       "    </tr>\n",
       "  </tbody>\n",
       "</table>\n",
       "</div>"
      ],
      "text/plain": [
       "   children  days_employed  dob_years education  education_id  \\\n",
       "0         1          -8437         42    высшее             0   \n",
       "1         1          -4024         36   среднее             1   \n",
       "2         0          -5623         33   Среднее             1   \n",
       "3         3          -4124         32   среднее             1   \n",
       "4         0         340266         53   среднее             1   \n",
       "5         0           -926         27    высшее             0   \n",
       "6         0          -2879         43    высшее             0   \n",
       "7         0           -152         50   СРЕДНЕЕ             1   \n",
       "8         2          -6929         35    ВЫСШЕЕ             0   \n",
       "9         0          -2188         41   среднее             1   \n",
       "\n",
       "      family_status  family_status_id gender income_type  debt  total_income  \\\n",
       "0   женат / замужем                 0      F   сотрудник     0        253875   \n",
       "1   женат / замужем                 0      F   сотрудник     0        112080   \n",
       "2   женат / замужем                 0      M   сотрудник     0        145885   \n",
       "3   женат / замужем                 0      M   сотрудник     0        267628   \n",
       "4  гражданский брак                 1      F   пенсионер     0        158616   \n",
       "5  гражданский брак                 1      M   компаньон     0        255763   \n",
       "6   женат / замужем                 0      F   компаньон     0        240525   \n",
       "7   женат / замужем                 0      M   сотрудник     0        135823   \n",
       "8  гражданский брак                 1      F   сотрудник     0         95856   \n",
       "9   женат / замужем                 0      M   сотрудник     0        144425   \n",
       "\n",
       "                      purpose  \n",
       "0               покупка жилья  \n",
       "1     приобретение автомобиля  \n",
       "2               покупка жилья  \n",
       "3  дополнительное образование  \n",
       "4             сыграть свадьбу  \n",
       "5               покупка жилья  \n",
       "6           операции с жильем  \n",
       "7                 образование  \n",
       "8       на проведение свадьбы  \n",
       "9     покупка жилья для семьи  "
      ]
     },
     "execution_count": 14,
     "metadata": {},
     "output_type": "execute_result"
    }
   ],
   "source": [
    "data.head(10)"
   ]
  },
  {
   "cell_type": "code",
   "execution_count": 15,
   "metadata": {},
   "outputs": [
    {
     "data": {
      "text/plain": [
       "0     14149\n",
       "1      4818\n",
       "2      2055\n",
       "3       330\n",
       "20       76\n",
       "4        41\n",
       "5         9\n",
       "Name: children, dtype: int64"
      ]
     },
     "execution_count": 15,
     "metadata": {},
     "output_type": "execute_result"
    }
   ],
   "source": [
    "data['children'].value_counts()"
   ]
  },
  {
   "cell_type": "markdown",
   "metadata": {},
   "source": [
    "**Вывод**"
   ]
  },
  {
   "cell_type": "markdown",
   "metadata": {},
   "source": [
    "Заменен тип данных у предикторов **days_employed** и **total_income** c *float64* на *int64* с помощью метода astype(), чтобы при дальнейшем анализе не вводить в заблуждение, т.к. стаж и доход измеряют в целых днях и рублях. Т "
   ]
  },
  {
   "cell_type": "markdown",
   "metadata": {},
   "source": [
    "<div class=\"alert alert-success\">\n",
    "<font size=\"5\"><b>Комментарий ревьюера</b></font>\n",
    "\n",
    "Исходя из общей информации о таблице мы видим, что два столбца имеют вещественный тип данных, который и надо заменить на целочисленный. Эта замена произведена только для стажа. Доход также стоит сделать целочисленным показателем. 5 знаков после запятой нам явно не нужны. Также хорошо бы освоить метод to_numeric() для будущих работ. \n",
    "\n",
    "</div>"
   ]
  },
  {
   "cell_type": "markdown",
   "metadata": {},
   "source": [
    "### Обработка дубликатов"
   ]
  },
  {
   "cell_type": "code",
   "execution_count": 16,
   "metadata": {},
   "outputs": [
    {
     "data": {
      "text/html": [
       "<div>\n",
       "<style scoped>\n",
       "    .dataframe tbody tr th:only-of-type {\n",
       "        vertical-align: middle;\n",
       "    }\n",
       "\n",
       "    .dataframe tbody tr th {\n",
       "        vertical-align: top;\n",
       "    }\n",
       "\n",
       "    .dataframe thead th {\n",
       "        text-align: right;\n",
       "    }\n",
       "</style>\n",
       "<table border=\"1\" class=\"dataframe\">\n",
       "  <thead>\n",
       "    <tr style=\"text-align: right;\">\n",
       "      <th></th>\n",
       "      <th>children</th>\n",
       "      <th>days_employed</th>\n",
       "      <th>dob_years</th>\n",
       "      <th>education</th>\n",
       "      <th>education_id</th>\n",
       "      <th>family_status</th>\n",
       "      <th>family_status_id</th>\n",
       "      <th>gender</th>\n",
       "      <th>income_type</th>\n",
       "      <th>debt</th>\n",
       "      <th>total_income</th>\n",
       "      <th>purpose</th>\n",
       "    </tr>\n",
       "  </thead>\n",
       "  <tbody>\n",
       "    <tr>\n",
       "      <td>0</td>\n",
       "      <td>1</td>\n",
       "      <td>-8437</td>\n",
       "      <td>42</td>\n",
       "      <td>высшее</td>\n",
       "      <td>0</td>\n",
       "      <td>женат / замужем</td>\n",
       "      <td>0</td>\n",
       "      <td>F</td>\n",
       "      <td>сотрудник</td>\n",
       "      <td>0</td>\n",
       "      <td>253875</td>\n",
       "      <td>покупка жилья</td>\n",
       "    </tr>\n",
       "    <tr>\n",
       "      <td>1</td>\n",
       "      <td>1</td>\n",
       "      <td>-4024</td>\n",
       "      <td>36</td>\n",
       "      <td>среднее</td>\n",
       "      <td>1</td>\n",
       "      <td>женат / замужем</td>\n",
       "      <td>0</td>\n",
       "      <td>F</td>\n",
       "      <td>сотрудник</td>\n",
       "      <td>0</td>\n",
       "      <td>112080</td>\n",
       "      <td>приобретение автомобиля</td>\n",
       "    </tr>\n",
       "    <tr>\n",
       "      <td>2</td>\n",
       "      <td>0</td>\n",
       "      <td>-5623</td>\n",
       "      <td>33</td>\n",
       "      <td>Среднее</td>\n",
       "      <td>1</td>\n",
       "      <td>женат / замужем</td>\n",
       "      <td>0</td>\n",
       "      <td>M</td>\n",
       "      <td>сотрудник</td>\n",
       "      <td>0</td>\n",
       "      <td>145885</td>\n",
       "      <td>покупка жилья</td>\n",
       "    </tr>\n",
       "    <tr>\n",
       "      <td>3</td>\n",
       "      <td>3</td>\n",
       "      <td>-4124</td>\n",
       "      <td>32</td>\n",
       "      <td>среднее</td>\n",
       "      <td>1</td>\n",
       "      <td>женат / замужем</td>\n",
       "      <td>0</td>\n",
       "      <td>M</td>\n",
       "      <td>сотрудник</td>\n",
       "      <td>0</td>\n",
       "      <td>267628</td>\n",
       "      <td>дополнительное образование</td>\n",
       "    </tr>\n",
       "    <tr>\n",
       "      <td>4</td>\n",
       "      <td>0</td>\n",
       "      <td>340266</td>\n",
       "      <td>53</td>\n",
       "      <td>среднее</td>\n",
       "      <td>1</td>\n",
       "      <td>гражданский брак</td>\n",
       "      <td>1</td>\n",
       "      <td>F</td>\n",
       "      <td>пенсионер</td>\n",
       "      <td>0</td>\n",
       "      <td>158616</td>\n",
       "      <td>сыграть свадьбу</td>\n",
       "    </tr>\n",
       "  </tbody>\n",
       "</table>\n",
       "</div>"
      ],
      "text/plain": [
       "   children  days_employed  dob_years education  education_id  \\\n",
       "0         1          -8437         42    высшее             0   \n",
       "1         1          -4024         36   среднее             1   \n",
       "2         0          -5623         33   Среднее             1   \n",
       "3         3          -4124         32   среднее             1   \n",
       "4         0         340266         53   среднее             1   \n",
       "\n",
       "      family_status  family_status_id gender income_type  debt  total_income  \\\n",
       "0   женат / замужем                 0      F   сотрудник     0        253875   \n",
       "1   женат / замужем                 0      F   сотрудник     0        112080   \n",
       "2   женат / замужем                 0      M   сотрудник     0        145885   \n",
       "3   женат / замужем                 0      M   сотрудник     0        267628   \n",
       "4  гражданский брак                 1      F   пенсионер     0        158616   \n",
       "\n",
       "                      purpose  \n",
       "0               покупка жилья  \n",
       "1     приобретение автомобиля  \n",
       "2               покупка жилья  \n",
       "3  дополнительное образование  \n",
       "4             сыграть свадьбу  "
      ]
     },
     "execution_count": 16,
     "metadata": {},
     "output_type": "execute_result"
    }
   ],
   "source": [
    "# Для начала  приведём все категориальные данные к одному регистру\n",
    "data.head(5)"
   ]
  },
  {
   "cell_type": "code",
   "execution_count": 17,
   "metadata": {
    "scrolled": false
   },
   "outputs": [
    {
     "name": "stdout",
     "output_type": "stream",
     "text": [
      "<class 'pandas.core.frame.DataFrame'>\n",
      "Int64Index: 21478 entries, 0 to 21524\n",
      "Data columns (total 12 columns):\n",
      "children            21478 non-null int64\n",
      "days_employed       21478 non-null int64\n",
      "dob_years           21478 non-null int64\n",
      "education           21478 non-null object\n",
      "education_id        21478 non-null int64\n",
      "family_status       21478 non-null object\n",
      "family_status_id    21478 non-null int64\n",
      "gender              21478 non-null object\n",
      "income_type         21478 non-null object\n",
      "debt                21478 non-null int64\n",
      "total_income        21478 non-null int64\n",
      "purpose             21478 non-null object\n",
      "dtypes: int64(7), object(5)\n",
      "memory usage: 2.1+ MB\n"
     ]
    }
   ],
   "source": [
    "data.info()"
   ]
  },
  {
   "cell_type": "code",
   "execution_count": 18,
   "metadata": {},
   "outputs": [],
   "source": [
    "# Функция для приведения значений категориальных полей к нижнему регистру\n",
    "def lower_reg(list):\n",
    "    for el in list:\n",
    "        data[el]=data[el].str.lower()"
   ]
  },
  {
   "cell_type": "code",
   "execution_count": 19,
   "metadata": {},
   "outputs": [],
   "source": [
    "# Список с категориальными переменными\n",
    "category_fields=['education','family_status','gender','income_type','purpose']\n",
    "lower_reg(category_fields)"
   ]
  },
  {
   "cell_type": "code",
   "execution_count": 20,
   "metadata": {},
   "outputs": [
    {
     "data": {
      "text/plain": [
       "71"
      ]
     },
     "execution_count": 20,
     "metadata": {},
     "output_type": "execute_result"
    }
   ],
   "source": [
    "data.duplicated().sum()"
   ]
  },
  {
   "cell_type": "code",
   "execution_count": 21,
   "metadata": {},
   "outputs": [],
   "source": [
    "data.drop_duplicates(inplace=True)"
   ]
  },
  {
   "cell_type": "markdown",
   "metadata": {},
   "source": [
    "**Вывод**"
   ]
  },
  {
   "cell_type": "markdown",
   "metadata": {},
   "source": [
    "Все категориальные предикторы **education, family_status, gender, income_type, purpose** приведены к нижнему регистру. Затем, с помощью методов *duplicated()* и *sum()* выявлены 71 дубликата (повторяющиеся строки в наборе данных).Эти дубли вызваны разными стилями ведения базы данных, например: использование заглавной буквы или ведение записи в нижнем регистре, включение CAPS LOCK и т.д. Затем, при помощи метода *drop_duplicates()*, дубликатные записи были удалены из dataframe"
   ]
  },
  {
   "cell_type": "markdown",
   "metadata": {},
   "source": [
    "<div class=\"alert alert-success\">\n",
    "<font size=\"5\"><b>Комментарий ревьюера</b></font>\n",
    "\n",
    "Дубликаты вызывают смещение финальных результатов, поэтому их и надо удалять. Конечно, в данных нет уникального идентификатора, однако надо уметь удалять дубликаты. Метод drop_duplicates() использован верно.\n",
    "\n",
    "</div>"
   ]
  },
  {
   "cell_type": "markdown",
   "metadata": {},
   "source": [
    "### Лемматизация и Категоризация данных"
   ]
  },
  {
   "cell_type": "code",
   "execution_count": 22,
   "metadata": {},
   "outputs": [
    {
     "data": {
      "text/plain": [
       "свадьба                                   791\n",
       "на проведение свадьбы                     767\n",
       "сыграть свадьбу                           764\n",
       "операции с недвижимостью                  673\n",
       "покупка коммерческой недвижимости         661\n",
       "операции с жильем                         651\n",
       "покупка жилья для сдачи                   650\n",
       "операции с коммерческой недвижимостью     649\n",
       "жилье                                     645\n",
       "покупка жилья                             643\n",
       "покупка жилья для семьи                   638\n",
       "строительство собственной недвижимости    634\n",
       "недвижимость                              632\n",
       "операции со своей недвижимостью           624\n",
       "строительство жилой недвижимости          621\n",
       "покупка своего жилья                      619\n",
       "строительство недвижимости                619\n",
       "покупка недвижимости                      618\n",
       "ремонт жилью                              606\n",
       "покупка жилой недвижимости                604\n",
       "на покупку своего автомобиля              504\n",
       "заняться высшим образованием              496\n",
       "автомобиль                                492\n",
       "сделка с подержанным автомобилем          485\n",
       "автомобили                                477\n",
       "на покупку подержанного автомобиля        477\n",
       "свой автомобиль                           476\n",
       "на покупку автомобиля                     470\n",
       "приобретение автомобиля                   459\n",
       "дополнительное образование                458\n",
       "сделка с автомобилем                      455\n",
       "высшее образование                        451\n",
       "получение дополнительного образования     445\n",
       "образование                               444\n",
       "получение образования                     441\n",
       "профильное образование                    434\n",
       "получение высшего образования             426\n",
       "заняться образованием                     408\n",
       "Name: purpose, dtype: int64"
      ]
     },
     "execution_count": 22,
     "metadata": {},
     "output_type": "execute_result"
    }
   ],
   "source": [
    "# На какие же вообще цели берут люди кредит - огласите весь список, пожалуйста!\n",
    "data['purpose'].value_counts()"
   ]
  },
  {
   "cell_type": "markdown",
   "metadata": {},
   "source": [
    "#### Исходя из этого списка, можно предположить, что люди чаще всего берут кредиты на свадьбу. Но это будет грубой ошибкой, потому что в переменной *purpose* одна и та же цель кредита может быть записана по-разному, например: \"операции с недвижимостью\"  и  \" операции с жильём\"."
   ]
  },
  {
   "cell_type": "code",
   "execution_count": 23,
   "metadata": {
    "scrolled": false
   },
   "outputs": [
    {
     "data": {
      "text/plain": [
       "array(['покупка жилья', 'приобретение автомобиля',\n",
       "       'дополнительное образование', 'сыграть свадьбу',\n",
       "       'операции с жильем', 'образование', 'на проведение свадьбы',\n",
       "       'покупка жилья для семьи', 'покупка недвижимости',\n",
       "       'покупка коммерческой недвижимости', 'покупка жилой недвижимости',\n",
       "       'строительство собственной недвижимости', 'недвижимость',\n",
       "       'строительство недвижимости', 'на покупку подержанного автомобиля',\n",
       "       'на покупку своего автомобиля',\n",
       "       'операции с коммерческой недвижимостью',\n",
       "       'строительство жилой недвижимости', 'жилье',\n",
       "       'операции со своей недвижимостью', 'автомобили',\n",
       "       'заняться образованием', 'сделка с подержанным автомобилем',\n",
       "       'получение образования', 'автомобиль', 'свадьба',\n",
       "       'получение дополнительного образования', 'покупка своего жилья',\n",
       "       'операции с недвижимостью', 'получение высшего образования',\n",
       "       'свой автомобиль', 'сделка с автомобилем',\n",
       "       'профильное образование', 'высшее образование',\n",
       "       'покупка жилья для сдачи', 'на покупку автомобиля', 'ремонт жилью',\n",
       "       'заняться высшим образованием'], dtype=object)"
      ]
     },
     "execution_count": 23,
     "metadata": {},
     "output_type": "execute_result"
    }
   ],
   "source": [
    "data['purpose'].unique()"
   ]
  },
  {
   "cell_type": "markdown",
   "metadata": {},
   "source": [
    "#### Можно выделить 4 общих категории выдачи займа: \"свадьба\",\"недвижимость\",\"автомобиль\",\"образование\". Для того чтобы сгруппировать заявки по этим категориям - проведём лемматизацию, т.е. выявим словарную форму в каждом значении переменной *purpose* и каждой основной лемме (характеризующей цель кредита) будем сопоставлять новые категории. Записывать значения будем в поле  *pur_group*"
   ]
  },
  {
   "cell_type": "code",
   "execution_count": 24,
   "metadata": {},
   "outputs": [],
   "source": [
    "from pymystem3 import Mystem\n",
    "m = Mystem()"
   ]
  },
  {
   "cell_type": "code",
   "execution_count": 25,
   "metadata": {},
   "outputs": [],
   "source": [
    "def purp_group(series):\n",
    "    for ind,row in series.iteritems():\n",
    "        lemm=m.lemmatize(row)\n",
    "        if 'свадьба' in lemm:\n",
    "            data.loc[ind,'pur_group']='свадьба'\n",
    "        elif 'автомобиль' in lemm:\n",
    "            data.loc[ind,'pur_group']='автомобиль'\n",
    "        elif  'недвижимость' in lemm:\n",
    "            data.loc[ind,'pur_group']='недвижимость'\n",
    "        elif 'жилье' in lemm:\n",
    "            data.loc[ind,'pur_group']='недвижимость'\n",
    "        elif 'образование' in lemm:\n",
    "            #print(lemm)\n",
    "            data.loc[ind,'pur_group']='образование'\n",
    "        else:\n",
    "            data.loc[ind,'pur_group']='неизвестно'"
   ]
  },
  {
   "cell_type": "code",
   "execution_count": 26,
   "metadata": {},
   "outputs": [],
   "source": [
    "purp_group(data['purpose'])"
   ]
  },
  {
   "cell_type": "code",
   "execution_count": 27,
   "metadata": {},
   "outputs": [
    {
     "data": {
      "text/html": [
       "<div>\n",
       "<style scoped>\n",
       "    .dataframe tbody tr th:only-of-type {\n",
       "        vertical-align: middle;\n",
       "    }\n",
       "\n",
       "    .dataframe tbody tr th {\n",
       "        vertical-align: top;\n",
       "    }\n",
       "\n",
       "    .dataframe thead th {\n",
       "        text-align: right;\n",
       "    }\n",
       "</style>\n",
       "<table border=\"1\" class=\"dataframe\">\n",
       "  <thead>\n",
       "    <tr style=\"text-align: right;\">\n",
       "      <th></th>\n",
       "      <th>children</th>\n",
       "      <th>days_employed</th>\n",
       "      <th>dob_years</th>\n",
       "      <th>education</th>\n",
       "      <th>education_id</th>\n",
       "      <th>family_status</th>\n",
       "      <th>family_status_id</th>\n",
       "      <th>gender</th>\n",
       "      <th>income_type</th>\n",
       "      <th>debt</th>\n",
       "      <th>total_income</th>\n",
       "      <th>purpose</th>\n",
       "      <th>pur_group</th>\n",
       "    </tr>\n",
       "  </thead>\n",
       "  <tbody>\n",
       "    <tr>\n",
       "      <td>21515</td>\n",
       "      <td>1</td>\n",
       "      <td>-467</td>\n",
       "      <td>28</td>\n",
       "      <td>среднее</td>\n",
       "      <td>1</td>\n",
       "      <td>женат / замужем</td>\n",
       "      <td>0</td>\n",
       "      <td>f</td>\n",
       "      <td>сотрудник</td>\n",
       "      <td>1</td>\n",
       "      <td>109486</td>\n",
       "      <td>заняться образованием</td>\n",
       "      <td>образование</td>\n",
       "    </tr>\n",
       "    <tr>\n",
       "      <td>21516</td>\n",
       "      <td>0</td>\n",
       "      <td>-914</td>\n",
       "      <td>42</td>\n",
       "      <td>высшее</td>\n",
       "      <td>0</td>\n",
       "      <td>женат / замужем</td>\n",
       "      <td>0</td>\n",
       "      <td>f</td>\n",
       "      <td>компаньон</td>\n",
       "      <td>0</td>\n",
       "      <td>322807</td>\n",
       "      <td>покупка своего жилья</td>\n",
       "      <td>недвижимость</td>\n",
       "    </tr>\n",
       "    <tr>\n",
       "      <td>21517</td>\n",
       "      <td>0</td>\n",
       "      <td>-404</td>\n",
       "      <td>42</td>\n",
       "      <td>высшее</td>\n",
       "      <td>0</td>\n",
       "      <td>гражданский брак</td>\n",
       "      <td>1</td>\n",
       "      <td>f</td>\n",
       "      <td>компаньон</td>\n",
       "      <td>0</td>\n",
       "      <td>178059</td>\n",
       "      <td>на покупку своего автомобиля</td>\n",
       "      <td>автомобиль</td>\n",
       "    </tr>\n",
       "    <tr>\n",
       "      <td>21518</td>\n",
       "      <td>0</td>\n",
       "      <td>373995</td>\n",
       "      <td>59</td>\n",
       "      <td>среднее</td>\n",
       "      <td>1</td>\n",
       "      <td>женат / замужем</td>\n",
       "      <td>0</td>\n",
       "      <td>f</td>\n",
       "      <td>пенсионер</td>\n",
       "      <td>0</td>\n",
       "      <td>153864</td>\n",
       "      <td>сделка с автомобилем</td>\n",
       "      <td>автомобиль</td>\n",
       "    </tr>\n",
       "    <tr>\n",
       "      <td>21519</td>\n",
       "      <td>1</td>\n",
       "      <td>-2351</td>\n",
       "      <td>37</td>\n",
       "      <td>ученая степень</td>\n",
       "      <td>4</td>\n",
       "      <td>в разводе</td>\n",
       "      <td>3</td>\n",
       "      <td>m</td>\n",
       "      <td>сотрудник</td>\n",
       "      <td>0</td>\n",
       "      <td>115949</td>\n",
       "      <td>покупка коммерческой недвижимости</td>\n",
       "      <td>недвижимость</td>\n",
       "    </tr>\n",
       "    <tr>\n",
       "      <td>21520</td>\n",
       "      <td>1</td>\n",
       "      <td>-4529</td>\n",
       "      <td>43</td>\n",
       "      <td>среднее</td>\n",
       "      <td>1</td>\n",
       "      <td>гражданский брак</td>\n",
       "      <td>1</td>\n",
       "      <td>f</td>\n",
       "      <td>компаньон</td>\n",
       "      <td>0</td>\n",
       "      <td>224791</td>\n",
       "      <td>операции с жильем</td>\n",
       "      <td>недвижимость</td>\n",
       "    </tr>\n",
       "    <tr>\n",
       "      <td>21521</td>\n",
       "      <td>0</td>\n",
       "      <td>343937</td>\n",
       "      <td>67</td>\n",
       "      <td>среднее</td>\n",
       "      <td>1</td>\n",
       "      <td>женат / замужем</td>\n",
       "      <td>0</td>\n",
       "      <td>f</td>\n",
       "      <td>пенсионер</td>\n",
       "      <td>0</td>\n",
       "      <td>155999</td>\n",
       "      <td>сделка с автомобилем</td>\n",
       "      <td>автомобиль</td>\n",
       "    </tr>\n",
       "    <tr>\n",
       "      <td>21522</td>\n",
       "      <td>1</td>\n",
       "      <td>-2113</td>\n",
       "      <td>38</td>\n",
       "      <td>среднее</td>\n",
       "      <td>1</td>\n",
       "      <td>гражданский брак</td>\n",
       "      <td>1</td>\n",
       "      <td>m</td>\n",
       "      <td>сотрудник</td>\n",
       "      <td>1</td>\n",
       "      <td>89672</td>\n",
       "      <td>недвижимость</td>\n",
       "      <td>недвижимость</td>\n",
       "    </tr>\n",
       "    <tr>\n",
       "      <td>21523</td>\n",
       "      <td>3</td>\n",
       "      <td>-3112</td>\n",
       "      <td>38</td>\n",
       "      <td>среднее</td>\n",
       "      <td>1</td>\n",
       "      <td>женат / замужем</td>\n",
       "      <td>0</td>\n",
       "      <td>m</td>\n",
       "      <td>сотрудник</td>\n",
       "      <td>1</td>\n",
       "      <td>244093</td>\n",
       "      <td>на покупку своего автомобиля</td>\n",
       "      <td>автомобиль</td>\n",
       "    </tr>\n",
       "    <tr>\n",
       "      <td>21524</td>\n",
       "      <td>2</td>\n",
       "      <td>-1984</td>\n",
       "      <td>40</td>\n",
       "      <td>среднее</td>\n",
       "      <td>1</td>\n",
       "      <td>женат / замужем</td>\n",
       "      <td>0</td>\n",
       "      <td>f</td>\n",
       "      <td>сотрудник</td>\n",
       "      <td>0</td>\n",
       "      <td>82047</td>\n",
       "      <td>на покупку автомобиля</td>\n",
       "      <td>автомобиль</td>\n",
       "    </tr>\n",
       "  </tbody>\n",
       "</table>\n",
       "</div>"
      ],
      "text/plain": [
       "       children  days_employed  dob_years       education  education_id  \\\n",
       "21515         1           -467         28         среднее             1   \n",
       "21516         0           -914         42          высшее             0   \n",
       "21517         0           -404         42          высшее             0   \n",
       "21518         0         373995         59         среднее             1   \n",
       "21519         1          -2351         37  ученая степень             4   \n",
       "21520         1          -4529         43         среднее             1   \n",
       "21521         0         343937         67         среднее             1   \n",
       "21522         1          -2113         38         среднее             1   \n",
       "21523         3          -3112         38         среднее             1   \n",
       "21524         2          -1984         40         среднее             1   \n",
       "\n",
       "          family_status  family_status_id gender income_type  debt  \\\n",
       "21515   женат / замужем                 0      f   сотрудник     1   \n",
       "21516   женат / замужем                 0      f   компаньон     0   \n",
       "21517  гражданский брак                 1      f   компаньон     0   \n",
       "21518   женат / замужем                 0      f   пенсионер     0   \n",
       "21519         в разводе                 3      m   сотрудник     0   \n",
       "21520  гражданский брак                 1      f   компаньон     0   \n",
       "21521   женат / замужем                 0      f   пенсионер     0   \n",
       "21522  гражданский брак                 1      m   сотрудник     1   \n",
       "21523   женат / замужем                 0      m   сотрудник     1   \n",
       "21524   женат / замужем                 0      f   сотрудник     0   \n",
       "\n",
       "       total_income                            purpose     pur_group  \n",
       "21515        109486              заняться образованием   образование  \n",
       "21516        322807               покупка своего жилья  недвижимость  \n",
       "21517        178059       на покупку своего автомобиля    автомобиль  \n",
       "21518        153864               сделка с автомобилем    автомобиль  \n",
       "21519        115949  покупка коммерческой недвижимости  недвижимость  \n",
       "21520        224791                  операции с жильем  недвижимость  \n",
       "21521        155999               сделка с автомобилем    автомобиль  \n",
       "21522         89672                       недвижимость  недвижимость  \n",
       "21523        244093       на покупку своего автомобиля    автомобиль  \n",
       "21524         82047              на покупку автомобиля    автомобиль  "
      ]
     },
     "execution_count": 27,
     "metadata": {},
     "output_type": "execute_result"
    }
   ],
   "source": [
    "data.tail(10)"
   ]
  },
  {
   "cell_type": "code",
   "execution_count": 28,
   "metadata": {
    "scrolled": false
   },
   "outputs": [
    {
     "data": {
      "text/plain": [
       "недвижимость    10787\n",
       "автомобиль       4295\n",
       "образование      4003\n",
       "свадьба          2322\n",
       "Name: pur_group, dtype: int64"
      ]
     },
     "execution_count": 28,
     "metadata": {},
     "output_type": "execute_result"
    }
   ],
   "source": [
    "data['pur_group'].value_counts()"
   ]
  },
  {
   "cell_type": "markdown",
   "metadata": {},
   "source": [
    "**Вывод**"
   ]
  },
  {
   "cell_type": "markdown",
   "metadata": {},
   "source": [
    "Выявлены 4 общих категории для цели кредита: \"свадьба\",\"недвижимость\",\"автомобиль\",\"образование\". Проведена лемматизация значений переменной **purpose**. Новые категории записаны в переменную **pur_group** "
   ]
  },
  {
   "cell_type": "markdown",
   "metadata": {},
   "source": [
    "<div class=\"alert alert-success\">\n",
    "<font size=\"5\"><b>Комментарий ревьюера</b></font>\n",
    "\n",
    "Круто, ты сделал самую сложную часть проекта. Использовал нужные методы, и даже провел группировку с помощью собственной функции. Выбор основных целей кредитов обоснован. \n",
    "\n",
    "</div>"
   ]
  },
  {
   "cell_type": "markdown",
   "metadata": {},
   "source": [
    "<div class=\"alert alert-danger\">\n",
    "<font size=\"5\"><b>Комментарий ревьюера</b></font>\n",
    "\n",
    "В данных есть словари. Попробуй их обнаружить и выделить. Это довольно распространенный способ хранения информации. Мне важно понять, что он тобой освоен. Заметь, что в основной таблице мы имеем по 2 параметра с образованием и семейным статусом. Именно по ним и стоит выделить словари. \n",
    "\n",
    "</div>"
   ]
  },
  {
   "cell_type": "code",
   "execution_count": 29,
   "metadata": {},
   "outputs": [
    {
     "data": {
      "text/plain": [
       "{'высшее': 0,\n",
       " 'среднее': 1,\n",
       " 'неоконченное высшее': 2,\n",
       " 'начальное': 3,\n",
       " 'ученая степень': 4}"
      ]
     },
     "execution_count": 29,
     "metadata": {},
     "output_type": "execute_result"
    }
   ],
   "source": [
    "# Словарь с образованием\n",
    "dict(data[['education','education_id']].drop_duplicates().to_dict('split')['data'])"
   ]
  },
  {
   "cell_type": "code",
   "execution_count": 30,
   "metadata": {},
   "outputs": [
    {
     "data": {
      "text/plain": [
       "{'женат / замужем': 0,\n",
       " 'гражданский брак': 1,\n",
       " 'вдовец / вдова': 2,\n",
       " 'в разводе': 3,\n",
       " 'не женат / не замужем': 4}"
      ]
     },
     "execution_count": 30,
     "metadata": {},
     "output_type": "execute_result"
    }
   ],
   "source": [
    "# Словарь с семейным статусом\n",
    "dict(data[['family_status','family_status_id']].drop_duplicates().to_dict('split')['data'])"
   ]
  },
  {
   "cell_type": "markdown",
   "metadata": {},
   "source": [
    "<div class=\"alert alert-success\">\n",
    "<font size=\"5\"><b>Комментарий ревьюера 2</b></font>\n",
    "\n",
    "Отлично, словари выделены. Теперь мы можем убрать текстовые параметры из основной таблицы, что увеличит эффективность работы с данными. \n",
    "\n",
    "</div>"
   ]
  },
  {
   "cell_type": "markdown",
   "metadata": {},
   "source": [
    "## Шаг 3. Ответьте на вопросы"
   ]
  },
  {
   "cell_type": "markdown",
   "metadata": {},
   "source": [
    "- Есть ли зависимость между наличием детей и возвратом кредита в срок?"
   ]
  },
  {
   "cell_type": "code",
   "execution_count": 31,
   "metadata": {
    "scrolled": true
   },
   "outputs": [
    {
     "data": {
      "text/html": [
       "<div>\n",
       "<style scoped>\n",
       "    .dataframe tbody tr th:only-of-type {\n",
       "        vertical-align: middle;\n",
       "    }\n",
       "\n",
       "    .dataframe tbody tr th {\n",
       "        vertical-align: top;\n",
       "    }\n",
       "\n",
       "    .dataframe thead th {\n",
       "        text-align: right;\n",
       "    }\n",
       "</style>\n",
       "<table border=\"1\" class=\"dataframe\">\n",
       "  <thead>\n",
       "    <tr style=\"text-align: right;\">\n",
       "      <th></th>\n",
       "      <th>debt</th>\n",
       "    </tr>\n",
       "    <tr>\n",
       "      <th>children</th>\n",
       "      <th></th>\n",
       "    </tr>\n",
       "  </thead>\n",
       "  <tbody>\n",
       "    <tr>\n",
       "      <td>0</td>\n",
       "      <td>7.54</td>\n",
       "    </tr>\n",
       "    <tr>\n",
       "      <td>1</td>\n",
       "      <td>9.23</td>\n",
       "    </tr>\n",
       "    <tr>\n",
       "      <td>2</td>\n",
       "      <td>9.45</td>\n",
       "    </tr>\n",
       "    <tr>\n",
       "      <td>3</td>\n",
       "      <td>8.18</td>\n",
       "    </tr>\n",
       "    <tr>\n",
       "      <td>4</td>\n",
       "      <td>9.76</td>\n",
       "    </tr>\n",
       "    <tr>\n",
       "      <td>5</td>\n",
       "      <td>0.00</td>\n",
       "    </tr>\n",
       "    <tr>\n",
       "      <td>20</td>\n",
       "      <td>10.53</td>\n",
       "    </tr>\n",
       "  </tbody>\n",
       "</table>\n",
       "</div>"
      ],
      "text/plain": [
       "           debt\n",
       "children       \n",
       "0          7.54\n",
       "1          9.23\n",
       "2          9.45\n",
       "3          8.18\n",
       "4          9.76\n",
       "5          0.00\n",
       "20        10.53"
      ]
     },
     "execution_count": 31,
     "metadata": {},
     "output_type": "execute_result"
    }
   ],
   "source": [
    "# Группируем данные по количеству детей у займщиков и суммируем по полю debt. Далее нормируем заёмщиков на их количество в каждой группе, т.к. в абсолютном выражении многодетных заёмщиков меньше.\n",
    "pd.DataFrame(round(data.groupby(by='children')['debt'].sum()/data.groupby(by='children')['debt'].count()*100,2))"
   ]
  },
  {
   "cell_type": "markdown",
   "metadata": {},
   "source": [
    "**Вывод**"
   ]
  },
  {
   "cell_type": "markdown",
   "metadata": {},
   "source": [
    "Согласно данным, существует слабая зависимость между количеством детей и выплатой кредита в срок: люди без детей чуть чаще возвращают кредит, чем заёмщики с детьми, т.к. с финансовой точки зрения, дети являются дополнительным обременяющим фактором, особенно в юном возрасте. Но в среднем, детей заводят финансово самостоятельные люди, т.е. они планируют рождение детей и возросшие материальные издержки. "
   ]
  },
  {
   "cell_type": "markdown",
   "metadata": {},
   "source": [
    "<div class=\"alert alert-success\">\n",
    "<font size=\"5\"><b>Комментарий ревьюера</b></font>\n",
    "\n",
    "Вывод не противоречит полученному результату. \n",
    "\n",
    "</div>"
   ]
  },
  {
   "cell_type": "markdown",
   "metadata": {},
   "source": [
    "- Есть ли зависимость между семейным положением и возвратом кредита в срок?"
   ]
  },
  {
   "cell_type": "code",
   "execution_count": 32,
   "metadata": {},
   "outputs": [
    {
     "data": {
      "text/html": [
       "<div>\n",
       "<style scoped>\n",
       "    .dataframe tbody tr th:only-of-type {\n",
       "        vertical-align: middle;\n",
       "    }\n",
       "\n",
       "    .dataframe tbody tr th {\n",
       "        vertical-align: top;\n",
       "    }\n",
       "\n",
       "    .dataframe thead th {\n",
       "        text-align: right;\n",
       "    }\n",
       "</style>\n",
       "<table border=\"1\" class=\"dataframe\">\n",
       "  <thead>\n",
       "    <tr style=\"text-align: right;\">\n",
       "      <th></th>\n",
       "      <th>debt</th>\n",
       "    </tr>\n",
       "    <tr>\n",
       "      <th>family_status</th>\n",
       "      <th></th>\n",
       "    </tr>\n",
       "  </thead>\n",
       "  <tbody>\n",
       "    <tr>\n",
       "      <td>в разводе</td>\n",
       "      <td>7.14</td>\n",
       "    </tr>\n",
       "    <tr>\n",
       "      <td>вдовец / вдова</td>\n",
       "      <td>6.60</td>\n",
       "    </tr>\n",
       "    <tr>\n",
       "      <td>гражданский брак</td>\n",
       "      <td>9.36</td>\n",
       "    </tr>\n",
       "    <tr>\n",
       "      <td>женат / замужем</td>\n",
       "      <td>7.55</td>\n",
       "    </tr>\n",
       "    <tr>\n",
       "      <td>не женат / не замужем</td>\n",
       "      <td>9.77</td>\n",
       "    </tr>\n",
       "  </tbody>\n",
       "</table>\n",
       "</div>"
      ],
      "text/plain": [
       "                       debt\n",
       "family_status              \n",
       "в разводе              7.14\n",
       "вдовец / вдова         6.60\n",
       "гражданский брак       9.36\n",
       "женат / замужем        7.55\n",
       "не женат / не замужем  9.77"
      ]
     },
     "execution_count": 32,
     "metadata": {},
     "output_type": "execute_result"
    }
   ],
   "source": [
    "# Группируем данные семейному положению и суммируем по полю debt.\n",
    "# Далее нормируем заёмщиков на их количество в каждой группе, чтобы нивелировать разницу в количестве\n",
    "pd.DataFrame(round(data.groupby(by='family_status')['debt'].sum()/data.groupby(by='family_status')['debt'].count()*100,2))"
   ]
  },
  {
   "cell_type": "markdown",
   "metadata": {},
   "source": [
    "**Вывод**"
   ]
  },
  {
   "cell_type": "markdown",
   "metadata": {},
   "source": [
    "Зависимость есть: *не женатые / не замужние* заёмщики и заёмщики состоящие в *гражданском браке* реже возвращают кредит, чем остальные. Так как в брак, в среднем, вступают в более зрелом возрасте, не говоря уже об овдовевших заёмщиках, то такие заёмщики более ответственные и дисциплинированные."
   ]
  },
  {
   "cell_type": "markdown",
   "metadata": {},
   "source": [
    "<div class=\"alert alert-success\">\n",
    "<font size=\"5\"><b>Комментарий ревьюера</b></font>\n",
    "\n",
    "Подумай, почему мы получаем такой результат. Можем ли мы тут иметь скрытую зависимость от возраста клиентов?\n",
    "\n",
    "</div>"
   ]
  },
  {
   "cell_type": "markdown",
   "metadata": {},
   "source": [
    "- Есть ли зависимость между уровнем дохода и возвратом кредита в срок?"
   ]
  },
  {
   "cell_type": "code",
   "execution_count": 33,
   "metadata": {},
   "outputs": [],
   "source": [
    "# Поделим всех заёмщиков на 10 равных групп (децилей), в зависимости от уровня дохода\n",
    "data['inc_group']=pd.qcut(data['total_income'],10,duplicates='raise',labels=[0,1,2,3,4,5,6,7,8,9])"
   ]
  },
  {
   "cell_type": "code",
   "execution_count": 34,
   "metadata": {},
   "outputs": [
    {
     "data": {
      "text/html": [
       "<div>\n",
       "<style scoped>\n",
       "    .dataframe tbody tr th:only-of-type {\n",
       "        vertical-align: middle;\n",
       "    }\n",
       "\n",
       "    .dataframe tbody tr th {\n",
       "        vertical-align: top;\n",
       "    }\n",
       "\n",
       "    .dataframe thead th {\n",
       "        text-align: right;\n",
       "    }\n",
       "</style>\n",
       "<table border=\"1\" class=\"dataframe\">\n",
       "  <thead>\n",
       "    <tr style=\"text-align: right;\">\n",
       "      <th></th>\n",
       "      <th>debt</th>\n",
       "    </tr>\n",
       "    <tr>\n",
       "      <th>inc_group</th>\n",
       "      <th></th>\n",
       "    </tr>\n",
       "  </thead>\n",
       "  <tbody>\n",
       "    <tr>\n",
       "      <td>0</td>\n",
       "      <td>7.33</td>\n",
       "    </tr>\n",
       "    <tr>\n",
       "      <td>1</td>\n",
       "      <td>8.73</td>\n",
       "    </tr>\n",
       "    <tr>\n",
       "      <td>2</td>\n",
       "      <td>8.36</td>\n",
       "    </tr>\n",
       "    <tr>\n",
       "      <td>3</td>\n",
       "      <td>8.50</td>\n",
       "    </tr>\n",
       "    <tr>\n",
       "      <td>4</td>\n",
       "      <td>9.08</td>\n",
       "    </tr>\n",
       "    <tr>\n",
       "      <td>5</td>\n",
       "      <td>8.35</td>\n",
       "    </tr>\n",
       "    <tr>\n",
       "      <td>6</td>\n",
       "      <td>8.45</td>\n",
       "    </tr>\n",
       "    <tr>\n",
       "      <td>7</td>\n",
       "      <td>8.41</td>\n",
       "    </tr>\n",
       "    <tr>\n",
       "      <td>8</td>\n",
       "      <td>6.96</td>\n",
       "    </tr>\n",
       "    <tr>\n",
       "      <td>9</td>\n",
       "      <td>7.05</td>\n",
       "    </tr>\n",
       "  </tbody>\n",
       "</table>\n",
       "</div>"
      ],
      "text/plain": [
       "           debt\n",
       "inc_group      \n",
       "0          7.33\n",
       "1          8.73\n",
       "2          8.36\n",
       "3          8.50\n",
       "4          9.08\n",
       "5          8.35\n",
       "6          8.45\n",
       "7          8.41\n",
       "8          6.96\n",
       "9          7.05"
      ]
     },
     "execution_count": 34,
     "metadata": {},
     "output_type": "execute_result"
    }
   ],
   "source": [
    "# [0 < 1 < 2 < 3 ... 6 < 7 < 8 < 9]\n",
    "# где 0 - самые бедный дециль заёмщиков, 9 - самый обеспеченный дециль заёмщиков\n",
    "round(pd.pivot_table(data,values='debt',index='inc_group',aggfunc=np.mean)*100,2)"
   ]
  },
  {
   "cell_type": "markdown",
   "metadata": {},
   "source": [
    "<div class=\"alert alert-success\">\n",
    "<font size=\"5\"><b>Комментарий ревьюера 2</b></font>\n",
    "\n",
    "Здорово, чтоо ты применил данный метод. Так мы получаем равные по размеру группы и можем построить надежные выводы. \n",
    "\n",
    "</div>"
   ]
  },
  {
   "cell_type": "markdown",
   "metadata": {},
   "source": [
    "**Вывод**"
   ]
  },
  {
   "cell_type": "markdown",
   "metadata": {},
   "source": [
    "Однозначной взаимосвязи между возвратом кредита в срок и уровнем дохода нет. Это объясняется тем, что у людей с ростом доходов растут и потребности, т.е. они берут кредит на те вещи, за которые не могут себе позволить заплатить сразу всю сумму - автомобили премиальных сегментов, элитную недвижимость в центральных районах городов."
   ]
  },
  {
   "cell_type": "markdown",
   "metadata": {},
   "source": [
    "<div class=\"alert alert-danger\">\n",
    "<font size=\"5\"><b>Комментарий ревьюера</b></font>\n",
    "\n",
    "Исходя из чего выбран именно такой способ категоризации столбца с доходами? Не во всех группах содержится достаточное число клиентов для построения по ним надежных выводов. Исправь способ выделения групп таким образом, чтобы в каждой содержалось достаточное число клиентов. Делать выводы по 25 клиентам или по 200 клиентам может быть крайне опасно. \n",
    "</div>\n",
    "<div class=\"alert alert-success\">\n",
    "    \n",
    "Лучше использовать разбиение по квантилям данных (метод qcut). Тогда группы получатся одинакового размера. Или же можно узнать в интернете процентный состав общества по доходам и затем уже категоризовать столбец с доходами по найденному соотношению с помощью персентилей. \n",
    "\n",
    "</div>"
   ]
  },
  {
   "cell_type": "markdown",
   "metadata": {},
   "source": [
    "- Как разные цели кредита влияют на его возврат в срок?"
   ]
  },
  {
   "cell_type": "code",
   "execution_count": 35,
   "metadata": {},
   "outputs": [
    {
     "data": {
      "text/html": [
       "<div>\n",
       "<style scoped>\n",
       "    .dataframe tbody tr th:only-of-type {\n",
       "        vertical-align: middle;\n",
       "    }\n",
       "\n",
       "    .dataframe tbody tr th {\n",
       "        vertical-align: top;\n",
       "    }\n",
       "\n",
       "    .dataframe thead th {\n",
       "        text-align: right;\n",
       "    }\n",
       "</style>\n",
       "<table border=\"1\" class=\"dataframe\">\n",
       "  <thead>\n",
       "    <tr style=\"text-align: right;\">\n",
       "      <th></th>\n",
       "      <th>debt</th>\n",
       "    </tr>\n",
       "    <tr>\n",
       "      <th>pur_group</th>\n",
       "      <th></th>\n",
       "    </tr>\n",
       "  </thead>\n",
       "  <tbody>\n",
       "    <tr>\n",
       "      <td>автомобиль</td>\n",
       "      <td>9.36</td>\n",
       "    </tr>\n",
       "    <tr>\n",
       "      <td>недвижимость</td>\n",
       "      <td>7.25</td>\n",
       "    </tr>\n",
       "    <tr>\n",
       "      <td>образование</td>\n",
       "      <td>9.24</td>\n",
       "    </tr>\n",
       "    <tr>\n",
       "      <td>свадьба</td>\n",
       "      <td>8.01</td>\n",
       "    </tr>\n",
       "  </tbody>\n",
       "</table>\n",
       "</div>"
      ],
      "text/plain": [
       "              debt\n",
       "pur_group         \n",
       "автомобиль    9.36\n",
       "недвижимость  7.25\n",
       "образование   9.24\n",
       "свадьба       8.01"
      ]
     },
     "execution_count": 35,
     "metadata": {},
     "output_type": "execute_result"
    }
   ],
   "source": [
    "#Группируем данные по цели займа (pur_group) и усредняем по полю debt\n",
    "round(pd.pivot_table(data,values='debt',index='pur_group',aggfunc=np.mean)*100,2)"
   ]
  },
  {
   "cell_type": "markdown",
   "metadata": {},
   "source": [
    "**Вывод**"
   ]
  },
  {
   "cell_type": "markdown",
   "metadata": {},
   "source": [
    "Кредиты взятые на недвижимость - самые беспроигрышные для банка, оно и понятно, ведь в таком случае имущество переходит от заёмщика в собственность банка. А кредиты, взятые на автомобиль и образование - самые проблемные, как для банка, так и для заёмщика: по этим кредитам чаще всего возникают невозвраты. "
   ]
  },
  {
   "cell_type": "markdown",
   "metadata": {},
   "source": [
    "<div class=\"alert alert-danger\">\n",
    "<font size=\"5\"><b>Комментарий ревьюера</b></font>\n",
    "\n",
    "На данном шаге рекомендуется использовать метод сводных таблиц (pivot_table()). Однако он является аналогом метода groupby(). Изучи метод сводных таблиц и примени его хотя бы в одном пункте анализа.\n",
    "\n",
    "</div>"
   ]
  },
  {
   "cell_type": "markdown",
   "metadata": {},
   "source": [
    "<div class=\"alert alert-success\">\n",
    "<font size=\"5\"><b>Комментарий ревьюера 2</b></font>\n",
    "\n",
    "Метод сводных таблиц освоен. Он нам сильно пригодится в дальнейших проектах.\n",
    "\n",
    "</div>"
   ]
  },
  {
   "cell_type": "markdown",
   "metadata": {},
   "source": [
    "## Шаг 4. Общий вывод"
   ]
  },
  {
   "cell_type": "markdown",
   "metadata": {},
   "source": [
    "Исследован набор данных по заёмщикам банка. Проведена обработка и заполнение 2174 NaN-значений в переменных ***days_employed*** и ***total_income*** на медианные, также у этих переменных были заменены типы данных с дробных значений *float* на целочисленные *int*. Удалена 71 дублирующая запись. Произведена лемматизация и категоризация целей займа ***purpose*** - выделены 4 основных категории: \n",
    "- займы на покупку автомобиля;\n",
    "- займы на сделки с недвижимостью;\n",
    "- займы на организацию свадеб, и займы на получение образования.\n",
    "\n",
    "Произведены исследования:\n",
    "- **на наличие взаимосвязи между наличием детей и возвратом кредита в срок**\n",
    "\n",
    "Согласно данным, существует слабая зависимость между количеством детей и выплатой кредита в срок: люди без детей чуть чаще возвращают кредит, чем заёмщики с детьми, т.к. с финансовой точки зрения, дети являются дополнительным обременяющим фактором, особенно в юном возрасте. Но в среднем, детей заводят финансово самостоятельные люди, т.е. они планируют рождение детей и возросшие материальные издержки. \n",
    "- **на связь между семейным положением и возвратом кредита в срок**\n",
    "\n",
    "*не женатые / не замужние* (9.77 % невозвратов) заёмщики и заёмщики состоящие в *гражданском браке* (9.36 % дефолтов) реже возвращают кредит, чем остальные (менее 7.55% невозвратов). Так как в брак, в среднем, вступают в более зрелом возрасте, не говоря уже об овдовевших заёмщиках, то такие заёмщики более ответственные и дисциплинированные. Таким образом наблюдается скрытая зависимость от возраста заёмщика.\n",
    "- **зависимость между уровнем дохода и возвратом кредита в срок**\n",
    "\n",
    "Были взяты 10 децилей заёмщиков по уровню дохода. Внутри этих групп посчитан процент дефолтов.\n",
    "Однозначной взаимосвязи между возвратом кредита в срок и уровнем дохода нет. У самых бедных заёмщиков 7.33 % невыплат, а у самых богатых - 7.05%, при этом у заёмщиков со средним уровнем дохода вероятность наступления дефолта достигает 9.08 %.Это объясняется тем, что у людей с ростом доходов растут и потребности, т.е. они берут кредит на те вещи, за которые не могут себе позволить заплатить сразу всю сумму - автомобили премиальных сегментов, элитную недвижимость в центральных районах городов и т.д. \n",
    "- **как разные цели кредита влияют на его возврат в срок.**\n",
    "\n",
    "Кредиты взятые на недвижимость - самые беспроигрышные для банка (7.25 % дефолтов), так как, в этом случае имущество переходит от заёмщика в собственность банка. А кредиты, взятые на автомобиль и образование - самые проблемные, как для банка, так и для заёмщика: по этим кредитам чаще всего возникают невозвраты - в 9.36 % и 9.24 % случаев, соответственно."
   ]
  },
  {
   "cell_type": "markdown",
   "metadata": {},
   "source": [
    "<div class=\"alert alert-danger\">\n",
    "<font size=\"5\"><b>Комментарий ревьюера</b></font>\n",
    "\n",
    "Финальный вывод и есть главный результат твоей работы. Стоит писать его подробно по результатам проведенной работы. В нем можно приводить полученные в ходе работы значения. Также можно расписать все, что было сделано в работе.\n",
    "\n",
    "</div>"
   ]
  },
  {
   "cell_type": "markdown",
   "metadata": {},
   "source": [
    "<div class=\"alert alert-success\">\n",
    "<font size=\"5\"><b>Комментарий ревьюера 2</b></font>\n",
    "\n",
    "Выводы описаны грамотно. Приведены ответы на главные вопросы проекта. В выводах можно приводить полученные ранее значения, правильно. Здорово, что по каждому пункту работы приведен вывод.     \n",
    "\n",
    "</div>"
   ]
  },
  {
   "cell_type": "markdown",
   "metadata": {},
   "source": [
    "<div class=\"alert alert-info\">\n",
    "<font size=\"5\"><b>Комментарий ревьюера</b></font>\n",
    "\n",
    "- Выдели словари в данных;\n",
    "- Категоризацию по доходу стоит делать иначе. Смотри данный пункт подробнее;\n",
    "- Изучи и используй в анализе метод сводных таблиц;\n",
    "- Финальный вывод стоит писать подробно по результатам проделанной работы.\n",
    "\n",
    "Ты проделал большую работу, молодец! Исправь отмеченные выше помарки. Думаю, сделать это тебе не составит труда. Жду твою работу :)\n",
    "\n",
    "</div>"
   ]
  },
  {
   "cell_type": "markdown",
   "metadata": {},
   "source": [
    "<div class=\"alert alert-success\">\n",
    "<font size=\"5\"><b>Комментарий ревьюера 2</b></font>\n",
    "\n",
    "Помарки исправлены, и теперь работа выполнена хорошо. Ты здорово поработал, молодец. Продолжай в том же духе! Успехов в дальнейших проектах :)\n",
    "\n",
    "</div>\n",
    "   "
   ]
  },
  {
   "cell_type": "markdown",
   "metadata": {},
   "source": [
    "## Чек-лист готовности проекта\n",
    "\n",
    "Поставьте 'x' в выполненных пунктах. Далее нажмите Shift+Enter."
   ]
  },
  {
   "cell_type": "markdown",
   "metadata": {},
   "source": [
    "- [x]  открыт файл;\n",
    "- [x]  файл изучен;\n",
    "- [x]  определены пропущенные значения;\n",
    "- [x]  заполнены пропущенные значения;\n",
    "- [x]  есть пояснение, какие пропущенные значения обнаружены;\n",
    "- [x]  описаны возможные причины появления пропусков в данных;\n",
    "- [x]  объяснено, по какому принципу заполнены пропуски;\n",
    "- [x]  заменен вещественный тип данных на целочисленный;\n",
    "- [x]  есть пояснение, какой метод используется для изменения типа данных и почему;\n",
    "- [x]  удалены дубликаты;\n",
    "- [x]  есть пояснение, какой метод используется для поиска и удаления дубликатов;\n",
    "- [x]  описаны возможные причины появления дубликатов в данных;\n",
    "- [x]  выделены леммы в значениях столбца с целями получения кредита;\n",
    "- [x]  описан процесс лемматизации;\n",
    "- [x]  данные категоризированы;\n",
    "- [x]  есть объяснение принципа категоризации данных;\n",
    "- [x]  есть ответ на вопрос: \"Есть ли зависимость между наличием детей и возвратом кредита в срок?\";\n",
    "- [x]  есть ответ на вопрос: \"Есть ли зависимость между семейным положением и возвратом кредита в срок?\";\n",
    "- [x]  есть ответ на вопрос: \"Есть ли зависимость между уровнем дохода и возвратом кредита в срок?\";\n",
    "- [x]  есть ответ на вопрос: \"Как разные цели кредита влияют на его возврат в срок?\";\n",
    "- [x]  в каждом этапе есть выводы;\n",
    "- [x]  есть общий вывод."
   ]
  }
 ],
 "metadata": {
  "ExecuteTimeLog": [
   {
    "duration": 652,
    "start_time": "2021-09-06T20:44:53.677Z"
   },
   {
    "duration": 58,
    "start_time": "2021-09-06T20:45:05.474Z"
   },
   {
    "duration": 17,
    "start_time": "2021-09-06T20:53:20.227Z"
   },
   {
    "duration": 555,
    "start_time": "2021-09-08T12:21:45.040Z"
   },
   {
    "duration": 17,
    "start_time": "2021-09-08T12:21:46.620Z"
   },
   {
    "duration": 231,
    "start_time": "2021-09-08T12:22:07.487Z"
   },
   {
    "duration": 20,
    "start_time": "2021-09-08T12:23:00.199Z"
   },
   {
    "duration": 171,
    "start_time": "2021-09-08T12:26:53.078Z"
   },
   {
    "duration": 21,
    "start_time": "2021-09-08T12:27:11.845Z"
   },
   {
    "duration": 17,
    "start_time": "2021-09-08T12:51:15.559Z"
   },
   {
    "duration": 13,
    "start_time": "2021-09-08T12:52:05.847Z"
   },
   {
    "duration": 16,
    "start_time": "2021-09-08T12:52:48.090Z"
   },
   {
    "duration": 24,
    "start_time": "2021-09-08T12:53:25.215Z"
   },
   {
    "duration": 22,
    "start_time": "2021-09-08T12:53:50.707Z"
   },
   {
    "duration": 13,
    "start_time": "2021-09-08T12:55:56.189Z"
   },
   {
    "duration": 26,
    "start_time": "2021-09-08T12:57:46.766Z"
   },
   {
    "duration": 17,
    "start_time": "2021-09-08T12:58:13.419Z"
   },
   {
    "duration": 179,
    "start_time": "2021-09-08T14:48:17.707Z"
   },
   {
    "duration": 13,
    "start_time": "2021-09-08T14:48:28.308Z"
   },
   {
    "duration": 10,
    "start_time": "2021-09-08T14:48:32.945Z"
   },
   {
    "duration": 11,
    "start_time": "2021-09-08T14:55:30.121Z"
   },
   {
    "duration": 20,
    "start_time": "2021-09-08T14:56:06.787Z"
   },
   {
    "duration": 835,
    "start_time": "2021-09-09T15:16:15.557Z"
   },
   {
    "duration": 18,
    "start_time": "2021-09-09T15:21:31.055Z"
   },
   {
    "duration": 23,
    "start_time": "2021-09-09T15:22:15.563Z"
   },
   {
    "duration": 21,
    "start_time": "2021-09-09T15:22:30.379Z"
   },
   {
    "duration": 21,
    "start_time": "2021-09-09T15:28:30.792Z"
   },
   {
    "duration": 357,
    "start_time": "2021-09-09T15:39:52.280Z"
   },
   {
    "duration": 7,
    "start_time": "2021-09-09T15:39:55.961Z"
   },
   {
    "duration": 9,
    "start_time": "2021-09-09T15:40:08.362Z"
   },
   {
    "duration": 10,
    "start_time": "2021-09-09T15:40:29.026Z"
   },
   {
    "duration": 10,
    "start_time": "2021-09-09T15:40:43.891Z"
   },
   {
    "duration": 11,
    "start_time": "2021-09-09T15:40:54.931Z"
   },
   {
    "duration": 9,
    "start_time": "2021-09-09T15:41:14.147Z"
   },
   {
    "duration": 7,
    "start_time": "2021-09-09T15:41:23.486Z"
   },
   {
    "duration": 6,
    "start_time": "2021-09-09T15:42:05.989Z"
   },
   {
    "duration": 6,
    "start_time": "2021-09-09T15:42:11.516Z"
   },
   {
    "duration": 20,
    "start_time": "2021-09-09T16:14:12.124Z"
   },
   {
    "duration": 12,
    "start_time": "2021-09-09T16:14:23.396Z"
   },
   {
    "duration": 12,
    "start_time": "2021-09-09T16:14:23.871Z"
   },
   {
    "duration": 19,
    "start_time": "2021-09-09T16:14:32.940Z"
   },
   {
    "duration": 6,
    "start_time": "2021-09-09T16:18:19.713Z"
   },
   {
    "duration": 5,
    "start_time": "2021-09-09T16:18:23.927Z"
   },
   {
    "duration": 5,
    "start_time": "2021-09-09T16:18:29.773Z"
   },
   {
    "duration": 18,
    "start_time": "2021-09-09T16:33:57.610Z"
   },
   {
    "duration": 19,
    "start_time": "2021-09-09T16:35:10.361Z"
   },
   {
    "duration": 21,
    "start_time": "2021-09-09T16:35:52.516Z"
   },
   {
    "duration": 8,
    "start_time": "2021-09-09T16:36:04.681Z"
   },
   {
    "duration": 21,
    "start_time": "2021-09-09T16:36:12.237Z"
   },
   {
    "duration": 7,
    "start_time": "2021-09-09T16:44:41.114Z"
   },
   {
    "duration": 5,
    "start_time": "2021-09-09T16:52:21.266Z"
   },
   {
    "duration": 6,
    "start_time": "2021-09-09T16:53:21.689Z"
   },
   {
    "duration": 8,
    "start_time": "2021-09-09T16:53:30.803Z"
   },
   {
    "duration": 57,
    "start_time": "2021-09-09T16:54:58.944Z"
   },
   {
    "duration": 11,
    "start_time": "2021-09-09T16:55:02.103Z"
   },
   {
    "duration": 22,
    "start_time": "2021-09-09T16:55:02.481Z"
   },
   {
    "duration": 5,
    "start_time": "2021-09-09T16:55:02.753Z"
   },
   {
    "duration": 19,
    "start_time": "2021-09-09T16:55:04.004Z"
   },
   {
    "duration": 12,
    "start_time": "2021-09-09T16:55:05.417Z"
   },
   {
    "duration": 11,
    "start_time": "2021-09-09T16:55:05.675Z"
   },
   {
    "duration": 4,
    "start_time": "2021-09-09T16:55:06.794Z"
   },
   {
    "duration": 7,
    "start_time": "2021-09-09T16:55:07.151Z"
   },
   {
    "duration": 21,
    "start_time": "2021-09-09T16:56:13.093Z"
   },
   {
    "duration": 27,
    "start_time": "2021-09-09T16:57:13.600Z"
   },
   {
    "duration": 337,
    "start_time": "2021-09-09T16:58:27.979Z"
   },
   {
    "duration": 20,
    "start_time": "2021-09-09T16:58:33.098Z"
   },
   {
    "duration": 20,
    "start_time": "2021-09-09T16:58:40.694Z"
   },
   {
    "duration": 8,
    "start_time": "2021-09-09T16:59:00.117Z"
   },
   {
    "duration": 23,
    "start_time": "2021-09-09T17:01:22.387Z"
   },
   {
    "duration": 557,
    "start_time": "2021-09-10T07:07:42.311Z"
   },
   {
    "duration": 845,
    "start_time": "2021-09-10T07:07:46.478Z"
   },
   {
    "duration": 27,
    "start_time": "2021-09-10T07:07:47.326Z"
   },
   {
    "duration": 63,
    "start_time": "2021-09-10T07:07:47.356Z"
   },
   {
    "duration": 33,
    "start_time": "2021-09-10T07:07:47.422Z"
   },
   {
    "duration": 9,
    "start_time": "2021-09-10T07:07:47.458Z"
   },
   {
    "duration": 28,
    "start_time": "2021-09-10T07:07:49.364Z"
   },
   {
    "duration": 16,
    "start_time": "2021-09-10T07:07:49.757Z"
   },
   {
    "duration": 16,
    "start_time": "2021-09-10T07:07:50.501Z"
   },
   {
    "duration": 5,
    "start_time": "2021-09-10T07:07:51.820Z"
   },
   {
    "duration": 8,
    "start_time": "2021-09-10T07:07:56.472Z"
   },
   {
    "duration": 32,
    "start_time": "2021-09-10T07:07:59.825Z"
   },
   {
    "duration": 32,
    "start_time": "2021-09-10T07:09:12.816Z"
   },
   {
    "duration": 31,
    "start_time": "2021-09-10T07:09:44.328Z"
   },
   {
    "duration": 41,
    "start_time": "2021-09-10T07:10:11.429Z"
   },
   {
    "duration": 6,
    "start_time": "2021-09-10T07:29:08.059Z"
   },
   {
    "duration": 21,
    "start_time": "2021-09-10T07:29:26.341Z"
   },
   {
    "duration": 24,
    "start_time": "2021-09-10T07:29:30.965Z"
   },
   {
    "duration": 680,
    "start_time": "2021-09-10T07:29:42.287Z"
   },
   {
    "duration": 21,
    "start_time": "2021-09-10T07:31:54.038Z"
   },
   {
    "duration": 17,
    "start_time": "2021-09-10T07:37:48.906Z"
   },
   {
    "duration": 14,
    "start_time": "2021-09-10T07:38:35.204Z"
   },
   {
    "duration": 337,
    "start_time": "2021-09-10T07:39:26.709Z"
   },
   {
    "duration": 397,
    "start_time": "2021-09-10T07:39:34.211Z"
   },
   {
    "duration": 133,
    "start_time": "2021-09-10T07:40:49.198Z"
   },
   {
    "duration": 4,
    "start_time": "2021-09-10T07:43:58.168Z"
   },
   {
    "duration": 64,
    "start_time": "2021-09-10T07:44:56.731Z"
   },
   {
    "duration": 16,
    "start_time": "2021-09-10T07:45:03.402Z"
   },
   {
    "duration": 4,
    "start_time": "2021-09-10T07:45:18.913Z"
   },
   {
    "duration": 63,
    "start_time": "2021-09-10T07:45:19.754Z"
   },
   {
    "duration": 17,
    "start_time": "2021-09-10T07:45:20.343Z"
   },
   {
    "duration": 22,
    "start_time": "2021-09-10T07:45:30.778Z"
   },
   {
    "duration": 30,
    "start_time": "2021-09-10T07:45:39.694Z"
   },
   {
    "duration": 30,
    "start_time": "2021-09-10T07:45:46.919Z"
   },
   {
    "duration": 21,
    "start_time": "2021-09-10T07:45:54.704Z"
   },
   {
    "duration": 34,
    "start_time": "2021-09-10T07:48:16.551Z"
   },
   {
    "duration": 25,
    "start_time": "2021-09-10T07:49:08.425Z"
   },
   {
    "duration": 27,
    "start_time": "2021-09-10T07:49:16.160Z"
   },
   {
    "duration": 444,
    "start_time": "2021-09-10T10:13:25.495Z"
   },
   {
    "duration": 15,
    "start_time": "2021-09-10T10:21:08.869Z"
   },
   {
    "duration": 10,
    "start_time": "2021-09-10T10:21:19.891Z"
   },
   {
    "duration": 14,
    "start_time": "2021-09-10T10:21:23.352Z"
   },
   {
    "duration": 3,
    "start_time": "2021-09-10T10:22:53.360Z"
   },
   {
    "duration": 9,
    "start_time": "2021-09-10T10:23:07.919Z"
   },
   {
    "duration": 11,
    "start_time": "2021-09-10T10:23:24.832Z"
   },
   {
    "duration": 328,
    "start_time": "2021-09-10T10:27:31.412Z"
   },
   {
    "duration": 917,
    "start_time": "2021-09-10T10:27:38.644Z"
   },
   {
    "duration": 11,
    "start_time": "2021-09-10T10:27:53.694Z"
   },
   {
    "duration": 11,
    "start_time": "2021-09-10T10:28:35.831Z"
   },
   {
    "duration": 10,
    "start_time": "2021-09-10T10:29:06.807Z"
   },
   {
    "duration": 351,
    "start_time": "2021-09-10T10:34:13.052Z"
   },
   {
    "duration": 4,
    "start_time": "2021-09-10T10:34:17.126Z"
   },
   {
    "duration": 1721,
    "start_time": "2021-09-10T10:34:18.090Z"
   },
   {
    "duration": 12,
    "start_time": "2021-09-10T10:34:36.392Z"
   },
   {
    "duration": 12,
    "start_time": "2021-09-10T10:34:39.786Z"
   },
   {
    "duration": 12,
    "start_time": "2021-09-10T10:34:42.355Z"
   },
   {
    "duration": 11,
    "start_time": "2021-09-10T10:34:46.887Z"
   },
   {
    "duration": 1234,
    "start_time": "2021-09-10T10:36:00.699Z"
   },
   {
    "duration": 74,
    "start_time": "2021-09-10T10:36:08.501Z"
   },
   {
    "duration": 17,
    "start_time": "2021-09-10T10:36:09.610Z"
   },
   {
    "duration": 39,
    "start_time": "2021-09-10T10:36:09.968Z"
   },
   {
    "duration": 35,
    "start_time": "2021-09-10T10:36:10.822Z"
   },
   {
    "duration": 9,
    "start_time": "2021-09-10T10:36:11.579Z"
   },
   {
    "duration": 28,
    "start_time": "2021-09-10T10:36:14.261Z"
   },
   {
    "duration": 19,
    "start_time": "2021-09-10T10:36:14.581Z"
   },
   {
    "duration": 18,
    "start_time": "2021-09-10T10:36:15.781Z"
   },
   {
    "duration": 6,
    "start_time": "2021-09-10T10:36:17.829Z"
   },
   {
    "duration": 10,
    "start_time": "2021-09-10T10:36:19.205Z"
   },
   {
    "duration": 42,
    "start_time": "2021-09-10T10:36:19.877Z"
   },
   {
    "duration": 18,
    "start_time": "2021-09-10T10:36:21.839Z"
   },
   {
    "duration": 15,
    "start_time": "2021-09-10T10:36:22.453Z"
   },
   {
    "duration": 4,
    "start_time": "2021-09-10T10:36:23.134Z"
   },
   {
    "duration": 67,
    "start_time": "2021-09-10T10:36:23.703Z"
   },
   {
    "duration": 35,
    "start_time": "2021-09-10T10:36:25.598Z"
   },
   {
    "duration": 27,
    "start_time": "2021-09-10T10:36:27.213Z"
   },
   {
    "duration": 3,
    "start_time": "2021-09-10T10:36:28.598Z"
   },
   {
    "duration": 21162,
    "start_time": "2021-09-10T10:36:32.671Z"
   },
   {
    "duration": 10,
    "start_time": "2021-09-10T10:36:58.929Z"
   },
   {
    "duration": 12,
    "start_time": "2021-09-10T10:37:05.239Z"
   },
   {
    "duration": 5,
    "start_time": "2021-09-10T10:37:30.023Z"
   },
   {
    "duration": 894,
    "start_time": "2021-09-10T10:37:31.343Z"
   },
   {
    "duration": 6,
    "start_time": "2021-09-10T10:37:39.454Z"
   },
   {
    "duration": 10,
    "start_time": "2021-09-10T10:38:14.343Z"
   },
   {
    "duration": 6,
    "start_time": "2021-09-10T10:39:12.100Z"
   },
   {
    "duration": 656,
    "start_time": "2021-09-10T10:44:38.479Z"
   },
   {
    "duration": 8,
    "start_time": "2021-09-10T10:45:21.653Z"
   },
   {
    "duration": 8,
    "start_time": "2021-09-10T10:45:25.278Z"
   },
   {
    "duration": 8,
    "start_time": "2021-09-10T10:45:42.606Z"
   },
   {
    "duration": 5,
    "start_time": "2021-09-10T10:46:09.101Z"
   },
   {
    "duration": 4,
    "start_time": "2021-09-10T10:46:10.278Z"
   },
   {
    "duration": 1164,
    "start_time": "2021-09-10T10:46:12.021Z"
   },
   {
    "duration": 7,
    "start_time": "2021-09-10T10:46:13.821Z"
   },
   {
    "duration": 928,
    "start_time": "2021-09-10T10:46:40.546Z"
   },
   {
    "duration": 9,
    "start_time": "2021-09-10T10:46:42.014Z"
   },
   {
    "duration": 7,
    "start_time": "2021-09-10T10:46:49.501Z"
   },
   {
    "duration": 3,
    "start_time": "2021-09-10T10:47:35.600Z"
   },
   {
    "duration": 6,
    "start_time": "2021-09-10T10:47:38.454Z"
   },
   {
    "duration": 6,
    "start_time": "2021-09-10T10:47:47.401Z"
   },
   {
    "duration": 6,
    "start_time": "2021-09-10T10:47:53.119Z"
   },
   {
    "duration": 7,
    "start_time": "2021-09-10T10:48:09.441Z"
   },
   {
    "duration": 13,
    "start_time": "2021-09-10T10:49:11.623Z"
   },
   {
    "duration": 101,
    "start_time": "2021-09-10T10:50:51.134Z"
   },
   {
    "duration": 3,
    "start_time": "2021-09-10T10:50:56.779Z"
   },
   {
    "duration": 6,
    "start_time": "2021-09-10T11:15:45.500Z"
   },
   {
    "duration": 5,
    "start_time": "2021-09-10T11:16:24.556Z"
   },
   {
    "duration": 578,
    "start_time": "2021-09-10T11:17:28.764Z"
   },
   {
    "duration": 5,
    "start_time": "2021-09-10T11:17:37.917Z"
   },
   {
    "duration": 3633,
    "start_time": "2021-09-10T11:17:38.583Z"
   },
   {
    "duration": 34,
    "start_time": "2021-09-10T11:17:53.237Z"
   },
   {
    "duration": 9,
    "start_time": "2021-09-10T11:18:37.061Z"
   },
   {
    "duration": 315,
    "start_time": "2021-09-10T11:19:12.254Z"
   },
   {
    "duration": 498,
    "start_time": "2021-09-10T11:19:18.990Z"
   },
   {
    "duration": 298,
    "start_time": "2021-09-10T11:19:23.725Z"
   },
   {
    "duration": 40,
    "start_time": "2021-09-10T11:19:33.833Z"
   },
   {
    "duration": 6,
    "start_time": "2021-09-10T11:20:21.631Z"
   },
   {
    "duration": 3545,
    "start_time": "2021-09-10T11:20:23.303Z"
   },
   {
    "duration": 32,
    "start_time": "2021-09-10T11:20:29.676Z"
   },
   {
    "duration": 37,
    "start_time": "2021-09-10T11:21:22.642Z"
   },
   {
    "duration": 6,
    "start_time": "2021-09-10T11:21:24.602Z"
   },
   {
    "duration": 3489,
    "start_time": "2021-09-10T11:21:25.778Z"
   },
   {
    "duration": 46,
    "start_time": "2021-09-10T11:21:29.270Z"
   },
   {
    "duration": 34,
    "start_time": "2021-09-10T11:23:11.402Z"
   },
   {
    "duration": 5,
    "start_time": "2021-09-10T11:23:13.682Z"
   },
   {
    "duration": 15808,
    "start_time": "2021-09-10T11:23:15.995Z"
   },
   {
    "duration": 31,
    "start_time": "2021-09-10T11:23:34.111Z"
   },
   {
    "duration": 33,
    "start_time": "2021-09-10T11:23:51.404Z"
   },
   {
    "duration": 6,
    "start_time": "2021-09-10T11:23:54.412Z"
   },
   {
    "duration": 598,
    "start_time": "2021-09-10T11:23:56.657Z"
   },
   {
    "duration": 31,
    "start_time": "2021-09-10T11:24:37.258Z"
   },
   {
    "duration": 8,
    "start_time": "2021-09-10T11:24:58.146Z"
   },
   {
    "duration": 26341,
    "start_time": "2021-09-10T11:24:59.708Z"
   },
   {
    "duration": 6,
    "start_time": "2021-09-10T11:43:55.265Z"
   },
   {
    "duration": 27990,
    "start_time": "2021-09-10T11:43:55.873Z"
   },
   {
    "duration": 34,
    "start_time": "2021-09-10T11:44:25.070Z"
   },
   {
    "duration": 6,
    "start_time": "2021-09-10T11:45:06.386Z"
   },
   {
    "duration": 33075,
    "start_time": "2021-09-10T11:45:06.947Z"
   },
   {
    "duration": 6,
    "start_time": "2021-09-10T13:27:12.670Z"
   },
   {
    "duration": 9,
    "start_time": "2021-09-10T13:29:49.414Z"
   },
   {
    "duration": 585,
    "start_time": "2021-09-10T13:29:56.014Z"
   },
   {
    "duration": 6,
    "start_time": "2021-09-10T13:30:08.014Z"
   },
   {
    "duration": 624,
    "start_time": "2021-09-10T13:30:08.726Z"
   },
   {
    "duration": 6,
    "start_time": "2021-09-10T13:30:41.950Z"
   },
   {
    "duration": 24044,
    "start_time": "2021-09-10T13:30:42.707Z"
   },
   {
    "duration": 32,
    "start_time": "2021-09-10T13:31:06.755Z"
   },
   {
    "duration": 9,
    "start_time": "2021-09-10T13:32:07.648Z"
   },
   {
    "duration": 25,
    "start_time": "2021-09-10T13:33:13.983Z"
   },
   {
    "duration": 6,
    "start_time": "2021-09-10T13:35:46.681Z"
   },
   {
    "duration": 16011,
    "start_time": "2021-09-10T13:35:48.987Z"
   },
   {
    "duration": 37,
    "start_time": "2021-09-10T13:36:05.016Z"
   },
   {
    "duration": 6,
    "start_time": "2021-09-10T13:36:08.108Z"
   },
   {
    "duration": 15983,
    "start_time": "2021-09-10T13:36:09.104Z"
   },
   {
    "duration": 38,
    "start_time": "2021-09-10T13:45:20.162Z"
   },
   {
    "duration": 6,
    "start_time": "2021-09-10T13:45:25.314Z"
   },
   {
    "duration": 14995,
    "start_time": "2021-09-10T13:45:26.100Z"
   },
   {
    "duration": 25,
    "start_time": "2021-09-10T13:45:43.699Z"
   },
   {
    "duration": 9,
    "start_time": "2021-09-10T13:45:57.759Z"
   },
   {
    "duration": 9,
    "start_time": "2021-09-10T13:46:02.373Z"
   },
   {
    "duration": 7828,
    "start_time": "2021-09-10T13:46:02.916Z"
   },
   {
    "duration": 7,
    "start_time": "2021-09-10T13:55:08.565Z"
   },
   {
    "duration": 194346,
    "start_time": "2021-09-10T13:55:10.530Z"
   },
   {
    "duration": 79,
    "start_time": "2021-09-10T13:58:29.756Z"
   },
   {
    "duration": 18,
    "start_time": "2021-09-10T13:58:30.026Z"
   },
   {
    "duration": 39,
    "start_time": "2021-09-10T13:58:30.262Z"
   },
   {
    "duration": 36,
    "start_time": "2021-09-10T13:58:30.495Z"
   },
   {
    "duration": 7,
    "start_time": "2021-09-10T13:58:50.348Z"
   },
   {
    "duration": 28,
    "start_time": "2021-09-10T13:58:52.625Z"
   },
   {
    "duration": 18,
    "start_time": "2021-09-10T13:58:52.843Z"
   },
   {
    "duration": 17,
    "start_time": "2021-09-10T13:58:53.076Z"
   },
   {
    "duration": 5,
    "start_time": "2021-09-10T13:58:54.844Z"
   },
   {
    "duration": 8,
    "start_time": "2021-09-10T13:58:55.097Z"
   },
   {
    "duration": 40,
    "start_time": "2021-09-10T13:58:55.344Z"
   },
   {
    "duration": 17,
    "start_time": "2021-09-10T13:58:56.633Z"
   },
   {
    "duration": 15,
    "start_time": "2021-09-10T13:58:56.863Z"
   },
   {
    "duration": 5,
    "start_time": "2021-09-10T13:58:57.123Z"
   },
   {
    "duration": 65,
    "start_time": "2021-09-10T13:58:57.996Z"
   },
   {
    "duration": 36,
    "start_time": "2021-09-10T13:58:58.712Z"
   },
   {
    "duration": 25,
    "start_time": "2021-09-10T13:58:59.056Z"
   },
   {
    "duration": 13,
    "start_time": "2021-09-10T13:58:59.925Z"
   },
   {
    "duration": 3,
    "start_time": "2021-09-10T13:59:02.205Z"
   },
   {
    "duration": 8,
    "start_time": "2021-09-10T13:59:02.668Z"
   },
   {
    "duration": 9,
    "start_time": "2021-09-10T13:59:03.940Z"
   },
   {
    "duration": 4,
    "start_time": "2021-09-10T13:59:14.626Z"
   },
   {
    "duration": 1096,
    "start_time": "2021-09-10T13:59:15.828Z"
   },
   {
    "duration": 7,
    "start_time": "2021-09-10T13:59:37.839Z"
   },
   {
    "duration": 46097,
    "start_time": "2021-09-10T13:59:40.144Z"
   },
   {
    "duration": 35,
    "start_time": "2021-09-10T14:00:39.800Z"
   },
   {
    "duration": 10,
    "start_time": "2021-09-10T14:01:28.005Z"
   },
   {
    "duration": 26,
    "start_time": "2021-09-10T14:02:12.735Z"
   },
   {
    "duration": 6,
    "start_time": "2021-09-10T14:02:58.752Z"
   },
   {
    "duration": 8,
    "start_time": "2021-09-10T14:03:01.537Z"
   },
   {
    "duration": 6,
    "start_time": "2021-09-10T14:03:05.888Z"
   },
   {
    "duration": 44306,
    "start_time": "2021-09-10T14:03:07.239Z"
   },
   {
    "duration": 27,
    "start_time": "2021-09-10T14:04:43.128Z"
   },
   {
    "duration": 11,
    "start_time": "2021-09-10T14:04:57.110Z"
   },
   {
    "duration": 6,
    "start_time": "2021-09-10T14:06:32.973Z"
   },
   {
    "duration": 7,
    "start_time": "2021-09-10T14:06:38.898Z"
   },
   {
    "duration": 42043,
    "start_time": "2021-09-10T14:06:46.339Z"
   },
   {
    "duration": 24,
    "start_time": "2021-09-10T14:08:05.270Z"
   },
   {
    "duration": 10,
    "start_time": "2021-09-10T14:08:14.076Z"
   },
   {
    "duration": 14,
    "start_time": "2021-09-10T14:31:35.646Z"
   },
   {
    "duration": 3,
    "start_time": "2021-09-10T14:31:45.600Z"
   },
   {
    "duration": 21,
    "start_time": "2021-09-10T14:34:36.199Z"
   },
   {
    "duration": 8,
    "start_time": "2021-09-10T15:11:28.712Z"
   },
   {
    "duration": 320,
    "start_time": "2021-09-10T15:12:10.453Z"
   },
   {
    "duration": 10,
    "start_time": "2021-09-10T15:12:42.985Z"
   },
   {
    "duration": 16,
    "start_time": "2021-09-10T15:14:20.440Z"
   },
   {
    "duration": 37,
    "start_time": "2021-09-10T15:14:25.560Z"
   },
   {
    "duration": 13,
    "start_time": "2021-09-10T15:14:34.282Z"
   },
   {
    "duration": 17,
    "start_time": "2021-09-10T15:16:02.663Z"
   },
   {
    "duration": 8,
    "start_time": "2021-09-10T15:16:29.800Z"
   },
   {
    "duration": 789,
    "start_time": "2021-09-10T15:17:14.059Z"
   },
   {
    "duration": 27,
    "start_time": "2021-09-10T15:17:15.659Z"
   },
   {
    "duration": 18,
    "start_time": "2021-09-10T15:18:27.130Z"
   },
   {
    "duration": 14,
    "start_time": "2021-09-10T15:18:28.410Z"
   },
   {
    "duration": 12,
    "start_time": "2021-09-10T15:18:29.129Z"
   },
   {
    "duration": 9,
    "start_time": "2021-09-10T15:18:39.672Z"
   },
   {
    "duration": 8,
    "start_time": "2021-09-10T15:18:40.469Z"
   },
   {
    "duration": 27,
    "start_time": "2021-09-10T15:19:23.224Z"
   },
   {
    "duration": 18,
    "start_time": "2021-09-10T15:19:42.458Z"
   },
   {
    "duration": 16,
    "start_time": "2021-09-10T15:19:43.822Z"
   },
   {
    "duration": 5,
    "start_time": "2021-09-10T15:19:49.514Z"
   },
   {
    "duration": 8,
    "start_time": "2021-09-10T15:19:58.621Z"
   },
   {
    "duration": 17,
    "start_time": "2021-09-10T15:20:27.948Z"
   },
   {
    "duration": 15,
    "start_time": "2021-09-10T15:21:04.627Z"
   },
   {
    "duration": 5,
    "start_time": "2021-09-10T15:21:05.718Z"
   },
   {
    "duration": 66,
    "start_time": "2021-09-10T15:21:07.261Z"
   },
   {
    "duration": 35,
    "start_time": "2021-09-10T15:21:08.447Z"
   },
   {
    "duration": 26,
    "start_time": "2021-09-10T15:21:10.228Z"
   },
   {
    "duration": 13,
    "start_time": "2021-09-10T15:21:12.613Z"
   },
   {
    "duration": 8,
    "start_time": "2021-09-10T15:21:15.540Z"
   },
   {
    "duration": 10,
    "start_time": "2021-09-10T15:21:22.204Z"
   },
   {
    "duration": 6,
    "start_time": "2021-09-10T15:21:23.644Z"
   },
   {
    "duration": 42795,
    "start_time": "2021-09-10T15:21:24.835Z"
   },
   {
    "duration": 22,
    "start_time": "2021-09-10T15:22:07.633Z"
   },
   {
    "duration": 11,
    "start_time": "2021-09-10T15:25:36.454Z"
   },
   {
    "duration": 9,
    "start_time": "2021-09-10T15:26:41.769Z"
   },
   {
    "duration": 23,
    "start_time": "2021-09-10T15:26:55.959Z"
   },
   {
    "duration": 16,
    "start_time": "2021-09-10T15:28:42.057Z"
   },
   {
    "duration": 12,
    "start_time": "2021-09-10T15:28:59.611Z"
   },
   {
    "duration": 9,
    "start_time": "2021-09-10T15:29:13.789Z"
   },
   {
    "duration": 12,
    "start_time": "2021-09-10T15:29:26.099Z"
   },
   {
    "duration": 22,
    "start_time": "2021-09-10T15:32:56.228Z"
   },
   {
    "duration": 14,
    "start_time": "2021-09-10T15:33:03.627Z"
   },
   {
    "duration": 14,
    "start_time": "2021-09-10T15:33:37.073Z"
   },
   {
    "duration": 11,
    "start_time": "2021-09-10T15:33:41.723Z"
   },
   {
    "duration": 14,
    "start_time": "2021-09-10T15:33:46.018Z"
   },
   {
    "duration": 14,
    "start_time": "2021-09-10T15:33:52.902Z"
   },
   {
    "duration": 15,
    "start_time": "2021-09-10T15:34:08.638Z"
   },
   {
    "duration": 14,
    "start_time": "2021-09-10T15:36:16.032Z"
   },
   {
    "duration": 15,
    "start_time": "2021-09-10T15:36:26.032Z"
   },
   {
    "duration": 19,
    "start_time": "2021-09-10T15:41:17.938Z"
   },
   {
    "duration": 29,
    "start_time": "2021-09-10T16:00:51.274Z"
   },
   {
    "duration": 19,
    "start_time": "2021-09-10T16:02:12.606Z"
   },
   {
    "duration": 7,
    "start_time": "2021-09-10T16:12:57.290Z"
   },
   {
    "duration": 721,
    "start_time": "2021-09-10T16:13:17.097Z"
   },
   {
    "duration": 7,
    "start_time": "2021-09-10T16:13:41.385Z"
   },
   {
    "duration": 610,
    "start_time": "2021-09-10T16:13:41.941Z"
   },
   {
    "duration": 619,
    "start_time": "2021-09-10T16:15:13.250Z"
   },
   {
    "duration": 653,
    "start_time": "2021-09-10T16:16:30.228Z"
   },
   {
    "duration": 15,
    "start_time": "2021-09-10T16:17:53.612Z"
   },
   {
    "duration": 781,
    "start_time": "2021-09-10T16:18:01.955Z"
   },
   {
    "duration": 6,
    "start_time": "2021-09-10T16:19:03.267Z"
   },
   {
    "duration": 3311,
    "start_time": "2021-09-10T16:19:03.886Z"
   },
   {
    "duration": 20,
    "start_time": "2021-09-10T16:19:16.391Z"
   },
   {
    "duration": 4273,
    "start_time": "2021-09-10T16:19:57.688Z"
   },
   {
    "duration": 1140,
    "start_time": "2021-09-10T16:20:12.579Z"
   },
   {
    "duration": 6,
    "start_time": "2021-09-10T16:22:12.977Z"
   },
   {
    "duration": 30080,
    "start_time": "2021-09-10T16:22:28.241Z"
   },
   {
    "duration": 20,
    "start_time": "2021-09-10T16:23:00.264Z"
   },
   {
    "duration": 313,
    "start_time": "2021-09-10T16:24:30.420Z"
   },
   {
    "duration": 42,
    "start_time": "2021-09-10T16:24:38.906Z"
   },
   {
    "duration": 6,
    "start_time": "2021-09-10T16:24:44.307Z"
   },
   {
    "duration": 30082,
    "start_time": "2021-09-10T16:24:45.708Z"
   },
   {
    "duration": 18,
    "start_time": "2021-09-10T16:25:31.725Z"
   },
   {
    "duration": 16,
    "start_time": "2021-09-10T16:30:12.541Z"
   },
   {
    "duration": 292,
    "start_time": "2021-09-10T17:31:17.800Z"
   },
   {
    "duration": 39,
    "start_time": "2021-09-10T17:31:22.817Z"
   },
   {
    "duration": 103,
    "start_time": "2021-09-10T17:31:41.870Z"
   },
   {
    "duration": 13,
    "start_time": "2021-09-10T17:31:51.944Z"
   },
   {
    "duration": 19,
    "start_time": "2021-09-10T17:32:00.216Z"
   },
   {
    "duration": 12,
    "start_time": "2021-09-10T17:37:26.608Z"
   },
   {
    "duration": 599,
    "start_time": "2021-09-10T18:20:53.330Z"
   },
   {
    "duration": 17,
    "start_time": "2021-09-10T18:20:53.931Z"
   },
   {
    "duration": 18,
    "start_time": "2021-09-10T18:20:53.949Z"
   },
   {
    "duration": 7,
    "start_time": "2021-09-10T18:20:53.969Z"
   },
   {
    "duration": 14,
    "start_time": "2021-09-10T18:20:53.977Z"
   },
   {
    "duration": 4,
    "start_time": "2021-09-10T18:20:53.993Z"
   },
   {
    "duration": 8,
    "start_time": "2021-09-10T18:20:53.999Z"
   },
   {
    "duration": 6,
    "start_time": "2021-09-10T18:20:54.009Z"
   },
   {
    "duration": 16,
    "start_time": "2021-09-10T18:20:54.018Z"
   },
   {
    "duration": 11,
    "start_time": "2021-09-10T18:20:54.036Z"
   },
   {
    "duration": 43,
    "start_time": "2021-09-10T18:20:54.048Z"
   },
   {
    "duration": 8,
    "start_time": "2021-09-10T18:20:54.093Z"
   },
   {
    "duration": 11,
    "start_time": "2021-09-10T18:20:54.102Z"
   },
   {
    "duration": 12,
    "start_time": "2021-09-10T18:20:54.114Z"
   },
   {
    "duration": 22,
    "start_time": "2021-09-10T18:20:54.128Z"
   },
   {
    "duration": 3,
    "start_time": "2021-09-10T18:20:54.151Z"
   },
   {
    "duration": 54,
    "start_time": "2021-09-10T18:20:54.155Z"
   },
   {
    "duration": 24,
    "start_time": "2021-09-10T18:20:54.211Z"
   },
   {
    "duration": 17,
    "start_time": "2021-09-10T18:20:54.236Z"
   },
   {
    "duration": 8,
    "start_time": "2021-09-10T18:20:54.254Z"
   },
   {
    "duration": 11,
    "start_time": "2021-09-10T18:20:54.264Z"
   },
   {
    "duration": 4,
    "start_time": "2021-09-10T18:20:54.291Z"
   },
   {
    "duration": 8,
    "start_time": "2021-09-10T18:20:54.296Z"
   },
   {
    "duration": 29476,
    "start_time": "2021-09-10T18:20:54.305Z"
   },
   {
    "duration": 18,
    "start_time": "2021-09-10T18:21:23.783Z"
   },
   {
    "duration": 10,
    "start_time": "2021-09-10T18:21:23.803Z"
   },
   {
    "duration": 14,
    "start_time": "2021-09-10T18:21:23.816Z"
   },
   {
    "duration": 13,
    "start_time": "2021-09-10T18:21:23.831Z"
   },
   {
    "duration": 6,
    "start_time": "2021-09-10T18:21:23.846Z"
   },
   {
    "duration": 7072,
    "start_time": "2021-09-10T18:21:23.854Z"
   },
   {
    "duration": 12,
    "start_time": "2021-09-10T18:21:30.929Z"
   },
   {
    "duration": 18,
    "start_time": "2021-09-10T18:21:30.943Z"
   },
   {
    "duration": 4512,
    "start_time": "2021-09-10T18:29:43.653Z"
   },
   {
    "duration": 5,
    "start_time": "2021-09-10T18:29:48.974Z"
   },
   {
    "duration": 6,
    "start_time": "2021-09-10T18:29:58.010Z"
   },
   {
    "duration": 295,
    "start_time": "2021-09-12T07:30:15.751Z"
   },
   {
    "duration": 806,
    "start_time": "2021-09-12T07:30:20.591Z"
   },
   {
    "duration": 21,
    "start_time": "2021-09-12T07:30:22.676Z"
   },
   {
    "duration": 9,
    "start_time": "2021-09-12T07:30:23.132Z"
   },
   {
    "duration": 9,
    "start_time": "2021-09-12T07:30:23.453Z"
   },
   {
    "duration": 6,
    "start_time": "2021-09-12T07:30:23.724Z"
   },
   {
    "duration": 6,
    "start_time": "2021-09-12T07:30:24.004Z"
   },
   {
    "duration": 10,
    "start_time": "2021-09-12T07:30:24.263Z"
   },
   {
    "duration": 9,
    "start_time": "2021-09-12T07:30:24.588Z"
   },
   {
    "duration": 20,
    "start_time": "2021-09-12T07:30:26.315Z"
   },
   {
    "duration": 13,
    "start_time": "2021-09-12T07:30:26.531Z"
   },
   {
    "duration": 12,
    "start_time": "2021-09-12T07:30:27.004Z"
   },
   {
    "duration": 4,
    "start_time": "2021-09-12T07:30:27.859Z"
   },
   {
    "duration": 6,
    "start_time": "2021-09-12T07:30:28.100Z"
   },
   {
    "duration": 13,
    "start_time": "2021-09-12T07:30:29.308Z"
   },
   {
    "duration": 11,
    "start_time": "2021-09-12T07:30:29.584Z"
   },
   {
    "duration": 3,
    "start_time": "2021-09-12T07:30:32.411Z"
   },
   {
    "duration": 52,
    "start_time": "2021-09-12T07:30:33.650Z"
   },
   {
    "duration": 35,
    "start_time": "2021-09-12T07:30:33.755Z"
   },
   {
    "duration": 19,
    "start_time": "2021-09-12T07:30:34.196Z"
   },
   {
    "duration": 10,
    "start_time": "2021-09-12T07:30:36.196Z"
   },
   {
    "duration": 7,
    "start_time": "2021-09-12T07:30:36.739Z"
   },
   {
    "duration": 8,
    "start_time": "2021-09-12T07:30:37.392Z"
   },
   {
    "duration": 5,
    "start_time": "2021-09-12T07:30:38.159Z"
   },
   {
    "duration": 33963,
    "start_time": "2021-09-12T07:30:38.635Z"
   },
   {
    "duration": 14,
    "start_time": "2021-09-12T07:31:12.601Z"
   },
   {
    "duration": 11,
    "start_time": "2021-09-12T07:31:12.617Z"
   },
   {
    "duration": 6,
    "start_time": "2021-09-12T07:31:59.314Z"
   },
   {
    "duration": 318,
    "start_time": "2021-09-12T07:32:30.457Z"
   },
   {
    "duration": 309,
    "start_time": "2021-09-12T07:32:41.461Z"
   },
   {
    "duration": 12,
    "start_time": "2021-09-12T07:32:48.455Z"
   },
   {
    "duration": 289,
    "start_time": "2021-09-12T07:33:27.812Z"
   },
   {
    "duration": 13,
    "start_time": "2021-09-12T07:34:02.327Z"
   },
   {
    "duration": 11,
    "start_time": "2021-09-12T07:34:21.951Z"
   },
   {
    "duration": 13,
    "start_time": "2021-09-12T07:34:36.138Z"
   },
   {
    "duration": 590,
    "start_time": "2021-09-12T07:34:44.235Z"
   },
   {
    "duration": 12,
    "start_time": "2021-09-12T07:34:49.288Z"
   },
   {
    "duration": 6569,
    "start_time": "2021-09-12T07:35:02.343Z"
   },
   {
    "duration": 12,
    "start_time": "2021-09-12T07:35:12.294Z"
   },
   {
    "duration": 10,
    "start_time": "2021-09-12T07:37:10.673Z"
   },
   {
    "duration": 12,
    "start_time": "2021-09-12T07:37:43.610Z"
   },
   {
    "duration": 301,
    "start_time": "2021-09-12T07:37:49.560Z"
   },
   {
    "duration": 13,
    "start_time": "2021-09-12T07:38:51.162Z"
   },
   {
    "duration": 10,
    "start_time": "2021-09-12T07:42:08.381Z"
   },
   {
    "duration": 90,
    "start_time": "2021-09-12T07:42:13.885Z"
   },
   {
    "duration": 10,
    "start_time": "2021-09-12T07:42:34.776Z"
   },
   {
    "duration": 10,
    "start_time": "2021-09-12T07:42:41.949Z"
   },
   {
    "duration": 11,
    "start_time": "2021-09-12T07:43:01.262Z"
   },
   {
    "duration": 10,
    "start_time": "2021-09-12T07:45:36.824Z"
   },
   {
    "duration": 11,
    "start_time": "2021-09-12T07:45:41.832Z"
   },
   {
    "duration": 10,
    "start_time": "2021-09-12T07:46:10.044Z"
   },
   {
    "duration": 10,
    "start_time": "2021-09-12T07:47:17.840Z"
   },
   {
    "duration": 408,
    "start_time": "2021-09-12T07:47:22.777Z"
   },
   {
    "duration": 264,
    "start_time": "2021-09-12T07:47:34.011Z"
   },
   {
    "duration": 10,
    "start_time": "2021-09-12T07:47:39.695Z"
   },
   {
    "duration": 11,
    "start_time": "2021-09-12T07:48:11.498Z"
   },
   {
    "duration": 305,
    "start_time": "2021-09-12T07:57:51.614Z"
   },
   {
    "duration": 282,
    "start_time": "2021-09-12T07:58:09.285Z"
   },
   {
    "duration": 15,
    "start_time": "2021-09-12T07:58:31.395Z"
   },
   {
    "duration": 376,
    "start_time": "2021-09-12T07:59:07.028Z"
   },
   {
    "duration": 379,
    "start_time": "2021-09-12T07:59:12.412Z"
   },
   {
    "duration": 284,
    "start_time": "2021-09-12T07:59:39.796Z"
   },
   {
    "duration": 278,
    "start_time": "2021-09-12T07:59:46.308Z"
   },
   {
    "duration": 281,
    "start_time": "2021-09-12T07:59:56.344Z"
   },
   {
    "duration": 284,
    "start_time": "2021-09-12T08:00:12.070Z"
   },
   {
    "duration": 3,
    "start_time": "2021-09-12T08:00:16.295Z"
   },
   {
    "duration": 17,
    "start_time": "2021-09-12T08:00:19.603Z"
   },
   {
    "duration": 284,
    "start_time": "2021-09-12T08:00:26.716Z"
   },
   {
    "duration": 17,
    "start_time": "2021-09-12T08:00:30.540Z"
   },
   {
    "duration": 23,
    "start_time": "2021-09-12T08:00:33.315Z"
   },
   {
    "duration": 18,
    "start_time": "2021-09-12T08:02:15.838Z"
   },
   {
    "duration": 272,
    "start_time": "2021-09-12T08:12:13.997Z"
   },
   {
    "duration": 15,
    "start_time": "2021-09-12T08:13:42.631Z"
   },
   {
    "duration": 14,
    "start_time": "2021-09-12T08:14:01.383Z"
   },
   {
    "duration": 14,
    "start_time": "2021-09-12T08:14:05.705Z"
   },
   {
    "duration": 14,
    "start_time": "2021-09-12T08:14:12.671Z"
   },
   {
    "duration": 14,
    "start_time": "2021-09-12T08:14:16.041Z"
   },
   {
    "duration": 267,
    "start_time": "2021-09-12T08:14:24.079Z"
   },
   {
    "duration": 83,
    "start_time": "2021-09-12T08:15:17.928Z"
   },
   {
    "duration": 514,
    "start_time": "2021-09-12T08:18:07.350Z"
   },
   {
    "duration": 256,
    "start_time": "2021-09-12T08:18:23.126Z"
   },
   {
    "duration": 274,
    "start_time": "2021-09-12T08:19:41.420Z"
   },
   {
    "duration": 264,
    "start_time": "2021-09-12T08:19:52.996Z"
   },
   {
    "duration": 16,
    "start_time": "2021-09-12T08:20:04.436Z"
   },
   {
    "duration": 465,
    "start_time": "2021-09-12T08:20:30.773Z"
   },
   {
    "duration": 389,
    "start_time": "2021-09-12T08:22:41.206Z"
   },
   {
    "duration": 397,
    "start_time": "2021-09-12T08:22:45.773Z"
   },
   {
    "duration": 20,
    "start_time": "2021-09-12T08:24:18.073Z"
   },
   {
    "duration": 12,
    "start_time": "2021-09-12T08:24:36.518Z"
   },
   {
    "duration": 14,
    "start_time": "2021-09-12T08:24:40.454Z"
   },
   {
    "duration": 13,
    "start_time": "2021-09-12T08:24:45.591Z"
   },
   {
    "duration": 14,
    "start_time": "2021-09-12T08:24:49.751Z"
   },
   {
    "duration": 301,
    "start_time": "2021-09-12T08:24:55.902Z"
   },
   {
    "duration": 14,
    "start_time": "2021-09-12T08:24:58.527Z"
   },
   {
    "duration": 17,
    "start_time": "2021-09-12T08:25:51.570Z"
   },
   {
    "duration": 13,
    "start_time": "2021-09-12T08:26:58.629Z"
   },
   {
    "duration": 12,
    "start_time": "2021-09-12T08:27:02.977Z"
   },
   {
    "duration": 13,
    "start_time": "2021-09-12T08:27:08.889Z"
   },
   {
    "duration": 12,
    "start_time": "2021-09-12T08:27:16.048Z"
   },
   {
    "duration": 12,
    "start_time": "2021-09-12T08:29:05.835Z"
   },
   {
    "duration": 13,
    "start_time": "2021-09-12T08:29:09.151Z"
   },
   {
    "duration": 13,
    "start_time": "2021-09-12T08:29:16.043Z"
   },
   {
    "duration": 327,
    "start_time": "2021-09-12T08:29:27.203Z"
   },
   {
    "duration": 13,
    "start_time": "2021-09-12T08:29:30.297Z"
   },
   {
    "duration": 13,
    "start_time": "2021-09-12T08:29:38.652Z"
   },
   {
    "duration": 13,
    "start_time": "2021-09-12T08:29:44.327Z"
   },
   {
    "duration": 13,
    "start_time": "2021-09-12T08:29:47.284Z"
   },
   {
    "duration": 11,
    "start_time": "2021-09-12T08:29:50.571Z"
   },
   {
    "duration": 12,
    "start_time": "2021-09-12T08:29:53.424Z"
   },
   {
    "duration": 12,
    "start_time": "2021-09-12T08:29:57.668Z"
   },
   {
    "duration": 12,
    "start_time": "2021-09-12T08:30:00.292Z"
   },
   {
    "duration": 14,
    "start_time": "2021-09-12T08:30:02.294Z"
   },
   {
    "duration": 14,
    "start_time": "2021-09-12T08:30:25.095Z"
   },
   {
    "duration": 273,
    "start_time": "2021-09-12T08:32:17.517Z"
   },
   {
    "duration": 274,
    "start_time": "2021-09-12T08:32:37.416Z"
   },
   {
    "duration": 12,
    "start_time": "2021-09-12T08:32:42.254Z"
   },
   {
    "duration": 12,
    "start_time": "2021-09-12T08:33:26.074Z"
   },
   {
    "duration": 9,
    "start_time": "2021-09-12T08:34:04.687Z"
   },
   {
    "duration": 14,
    "start_time": "2021-09-12T08:34:18.015Z"
   },
   {
    "duration": 16,
    "start_time": "2021-09-12T08:36:37.977Z"
   },
   {
    "duration": 16,
    "start_time": "2021-09-12T08:36:45.303Z"
   },
   {
    "duration": 12,
    "start_time": "2021-09-12T08:37:16.418Z"
   },
   {
    "duration": 17,
    "start_time": "2021-09-12T08:38:13.034Z"
   },
   {
    "duration": 19,
    "start_time": "2021-09-12T08:39:03.132Z"
   },
   {
    "duration": 336,
    "start_time": "2021-09-12T09:44:15.165Z"
   },
   {
    "duration": 371,
    "start_time": "2021-09-12T09:44:27.146Z"
   },
   {
    "duration": 1836,
    "start_time": "2021-09-12T10:22:21.475Z"
   },
   {
    "duration": 5,
    "start_time": "2021-09-12T10:22:35.931Z"
   },
   {
    "duration": 16,
    "start_time": "2021-09-12T10:22:44.508Z"
   },
   {
    "duration": 7,
    "start_time": "2021-09-12T10:23:59.895Z"
   },
   {
    "duration": 5,
    "start_time": "2021-09-12T10:24:32.504Z"
   },
   {
    "duration": 16,
    "start_time": "2021-09-12T10:24:33.587Z"
   },
   {
    "duration": 972,
    "start_time": "2021-09-12T10:33:56.960Z"
   },
   {
    "duration": 19,
    "start_time": "2021-09-12T10:33:59.792Z"
   },
   {
    "duration": 9,
    "start_time": "2021-09-12T10:34:01.602Z"
   },
   {
    "duration": 10,
    "start_time": "2021-09-12T10:34:01.923Z"
   },
   {
    "duration": 6,
    "start_time": "2021-09-12T10:34:02.206Z"
   },
   {
    "duration": 6,
    "start_time": "2021-09-12T10:34:02.445Z"
   },
   {
    "duration": 12,
    "start_time": "2021-09-12T10:34:02.674Z"
   },
   {
    "duration": 9,
    "start_time": "2021-09-12T10:34:02.914Z"
   },
   {
    "duration": 19,
    "start_time": "2021-09-12T10:34:04.666Z"
   },
   {
    "duration": 13,
    "start_time": "2021-09-12T10:34:04.970Z"
   },
   {
    "duration": 12,
    "start_time": "2021-09-12T10:34:05.237Z"
   },
   {
    "duration": 4,
    "start_time": "2021-09-12T10:34:06.595Z"
   },
   {
    "duration": 4,
    "start_time": "2021-09-12T10:34:06.872Z"
   },
   {
    "duration": 15,
    "start_time": "2021-09-12T10:34:07.098Z"
   },
   {
    "duration": 7,
    "start_time": "2021-09-12T10:34:07.627Z"
   },
   {
    "duration": 12,
    "start_time": "2021-09-12T10:34:09.525Z"
   },
   {
    "duration": 12,
    "start_time": "2021-09-12T10:34:09.814Z"
   },
   {
    "duration": 3,
    "start_time": "2021-09-12T10:34:10.138Z"
   },
   {
    "duration": 50,
    "start_time": "2021-09-12T10:34:10.706Z"
   },
   {
    "duration": 28,
    "start_time": "2021-09-12T10:34:10.970Z"
   },
   {
    "duration": 21,
    "start_time": "2021-09-12T10:34:11.226Z"
   },
   {
    "duration": 10,
    "start_time": "2021-09-12T10:34:12.508Z"
   },
   {
    "duration": 7,
    "start_time": "2021-09-12T10:34:13.033Z"
   },
   {
    "duration": 8,
    "start_time": "2021-09-12T10:34:13.584Z"
   },
   {
    "duration": 5,
    "start_time": "2021-09-12T10:34:13.842Z"
   },
   {
    "duration": 33977,
    "start_time": "2021-09-12T10:34:14.133Z"
   },
   {
    "duration": 14,
    "start_time": "2021-09-12T10:34:48.112Z"
   },
   {
    "duration": 19,
    "start_time": "2021-09-12T10:34:48.128Z"
   },
   {
    "duration": 14,
    "start_time": "2021-09-12T10:34:48.148Z"
   },
   {
    "duration": 10,
    "start_time": "2021-09-12T10:34:48.164Z"
   },
   {
    "duration": 19,
    "start_time": "2021-09-12T10:34:56.190Z"
   },
   {
    "duration": 15,
    "start_time": "2021-09-12T10:34:57.227Z"
   },
   {
    "duration": 10,
    "start_time": "2021-09-12T10:34:58.586Z"
   },
   {
    "duration": 18,
    "start_time": "2021-09-12T10:34:58.812Z"
   },
   {
    "duration": 16,
    "start_time": "2021-09-12T10:35:01.129Z"
   }
  ],
  "kernelspec": {
   "display_name": "Python 3 (ipykernel)",
   "language": "python",
   "name": "python3"
  },
  "language_info": {
   "codemirror_mode": {
    "name": "ipython",
    "version": 3
   },
   "file_extension": ".py",
   "mimetype": "text/x-python",
   "name": "python",
   "nbconvert_exporter": "python",
   "pygments_lexer": "ipython3",
   "version": "3.9.5"
  },
  "toc": {
   "base_numbering": 1,
   "nav_menu": {},
   "number_sections": true,
   "sideBar": true,
   "skip_h1_title": true,
   "title_cell": "Table of Contents",
   "title_sidebar": "Contents",
   "toc_cell": false,
   "toc_position": {
    "height": "calc(100% - 180px)",
    "left": "10px",
    "top": "150px",
    "width": "257.391px"
   },
   "toc_section_display": true,
   "toc_window_display": false
  }
 },
 "nbformat": 4,
 "nbformat_minor": 2
}
